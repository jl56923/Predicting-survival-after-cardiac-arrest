{
 "cells": [
  {
   "cell_type": "code",
   "execution_count": 3,
   "metadata": {
    "ExecuteTime": {
     "end_time": "2018-07-27T17:03:14.440514Z",
     "start_time": "2018-07-27T17:03:14.422124Z"
    }
   },
   "outputs": [],
   "source": [
    "from sklearn.cross_validation import train_test_split\n",
    "from sklearn.grid_search import GridSearchCV\n",
    "from sklearn.metrics import make_scorer, \\\n",
    "    hamming_loss\n",
    "from sklearn.datasets import load_digits\n",
    "from sklearn.pipeline import Pipeline\n",
    "from sklearn.preprocessing import StandardScaler, Imputer\n",
    "from sklearn.svm import SVC\n",
    "import pickle\n",
    "import numpy as np"
   ]
  },
  {
   "cell_type": "code",
   "execution_count": 2,
   "metadata": {
    "ExecuteTime": {
     "end_time": "2018-07-27T16:49:40.219612Z",
     "start_time": "2018-07-27T16:49:39.991103Z"
    }
   },
   "outputs": [
    {
     "name": "stdout",
     "output_type": "stream",
     "text": [
      "Begin extract\n",
      "X shape: (1797, 64), y shape: (1797,)\n",
      "Begin modelling\n"
     ]
    },
    {
     "ename": "NameError",
     "evalue": "name 'np' is not defined",
     "output_type": "error",
     "traceback": [
      "\u001b[0;31m---------------------------------------------------------------------------\u001b[0m",
      "\u001b[0;31mNameError\u001b[0m                                 Traceback (most recent call last)",
      "\u001b[0;32m<ipython-input-2-86e3a94b0633>\u001b[0m in \u001b[0;36m<module>\u001b[0;34m()\u001b[0m\n\u001b[1;32m     18\u001b[0m         \u001b[0;34m'scale__with_std'\u001b[0m\u001b[0;34m:\u001b[0m \u001b[0;34m[\u001b[0m\u001b[0;32mTrue\u001b[0m\u001b[0;34m,\u001b[0m \u001b[0;32mFalse\u001b[0m\u001b[0;34m]\u001b[0m\u001b[0;34m,\u001b[0m\u001b[0;34m\u001b[0m\u001b[0m\n\u001b[1;32m     19\u001b[0m         \u001b[0;34m'svm__kernel'\u001b[0m\u001b[0;34m:\u001b[0m \u001b[0;34m[\u001b[0m\u001b[0;34m'linear'\u001b[0m\u001b[0;34m]\u001b[0m\u001b[0;34m,\u001b[0m\u001b[0;34m\u001b[0m\u001b[0m\n\u001b[0;32m---> 20\u001b[0;31m         \u001b[0;34m'svm__C'\u001b[0m\u001b[0;34m:\u001b[0m \u001b[0mnp\u001b[0m\u001b[0;34m.\u001b[0m\u001b[0mlogspace\u001b[0m\u001b[0;34m(\u001b[0m\u001b[0;34m-\u001b[0m\u001b[0;36m6\u001b[0m\u001b[0;34m,\u001b[0m\u001b[0;36m9\u001b[0m\u001b[0;34m,\u001b[0m \u001b[0;36m10\u001b[0m\u001b[0;34m)\u001b[0m\u001b[0;34m\u001b[0m\u001b[0m\n\u001b[0m\u001b[1;32m     21\u001b[0m     },\n\u001b[1;32m     22\u001b[0m     {\n",
      "\u001b[0;31mNameError\u001b[0m: name 'np' is not defined"
     ]
    }
   ],
   "source": [
    "print('Begin extract')\n",
    "X, y = load_digits(return_X_y=True)\n",
    "print(f'X shape: {X.shape}, y shape: {y.shape}')\n",
    "\n",
    "\n",
    "X_train, X_test, y_train, y_test = train_test_split(X, y, test_size=.3)\n",
    "\n",
    "# Model\n",
    "print('Begin modelling')\n",
    "pipe = Pipeline([\n",
    "    ('imputer', Imputer()),\n",
    "    ('scale', StandardScaler()),\n",
    "    ('svm', SVC())\n",
    "])\n",
    "\n",
    "param_grid = [{\n",
    "        'scale__with_mean': [True, False],\n",
    "        'scale__with_std': [True, False],\n",
    "        'svm__kernel': ['linear'],\n",
    "        'svm__C': np.logspace(-6,9, 10)\n",
    "    },\n",
    "    {\n",
    "        'scale__with_mean': [True, False],\n",
    "        'scale__with_std': [True, False],\n",
    "        'svm__kernel': ['rbf'],\n",
    "        'svm__C': np.logspace(-6,9, 10),\n",
    "        'svm__gamma': np.logspace(-6,9, 10)\n",
    "    }\n",
    "]\n",
    "\n",
    "grid = GridSearchCV(pipe, cv=3, n_jobs=-1, param_grid=param_grid)\n",
    "\n",
    "grid.fit(X_train, y_train)\n",
    "\n",
    "y_preds = grid.predict(X_test)\n",
    "\n",
    "print(\"Done modelling\")\n",
    "# We can also save the model for later\n",
    "pickle.dump(grid, open('digit_model.pkl', 'wb'))"
   ]
  },
  {
   "cell_type": "code",
   "execution_count": 4,
   "metadata": {
    "ExecuteTime": {
     "end_time": "2018-07-27T17:10:28.655750Z",
     "start_time": "2018-07-27T17:10:28.637088Z"
    }
   },
   "outputs": [],
   "source": [
    "grid = pickle.load(open('digit_model.pkl', 'rb'))"
   ]
  },
  {
   "cell_type": "code",
   "execution_count": 5,
   "metadata": {
    "ExecuteTime": {
     "end_time": "2018-07-27T17:11:20.706000Z",
     "start_time": "2018-07-27T17:11:20.685691Z"
    }
   },
   "outputs": [
    {
     "data": {
      "text/plain": [
       "Pipeline(memory=None,\n",
       "     steps=[('imputer', Imputer(axis=0, copy=True, missing_values='NaN', strategy='mean', verbose=0)), ('scale', StandardScaler(copy=True, with_mean=True, with_std=False)), ('svm', SVC(C=4.641588833612782, cache_size=200, class_weight=None, coef0=0.0,\n",
       "  decision_function_shape='ovr', degree=3, gamma=0.0021544346900318843,\n",
       "  kernel='rbf', max_iter=-1, probability=False, random_state=None,\n",
       "  shrinking=True, tol=0.001, verbose=False))])"
      ]
     },
     "execution_count": 5,
     "metadata": {},
     "output_type": "execute_result"
    }
   ],
   "source": [
    "grid.best_estimator_"
   ]
  },
  {
   "cell_type": "code",
   "execution_count": 6,
   "metadata": {
    "ExecuteTime": {
     "end_time": "2018-07-27T17:14:31.255956Z",
     "start_time": "2018-07-27T17:14:31.248223Z"
    }
   },
   "outputs": [
    {
     "data": {
      "text/plain": [
       "{'scale__with_mean': True,\n",
       " 'scale__with_std': False,\n",
       " 'svm__C': 4.641588833612782,\n",
       " 'svm__gamma': 0.0021544346900318843,\n",
       " 'svm__kernel': 'rbf'}"
      ]
     },
     "execution_count": 6,
     "metadata": {},
     "output_type": "execute_result"
    }
   ],
   "source": [
    "grid.best_params_"
   ]
  },
  {
   "cell_type": "code",
   "execution_count": 7,
   "metadata": {
    "ExecuteTime": {
     "end_time": "2018-07-27T17:14:47.345669Z",
     "start_time": "2018-07-27T17:14:47.337895Z"
    }
   },
   "outputs": [
    {
     "data": {
      "text/plain": [
       "0.9809069212410502"
      ]
     },
     "execution_count": 7,
     "metadata": {},
     "output_type": "execute_result"
    }
   ],
   "source": [
    "grid.best_score_"
   ]
  },
  {
   "cell_type": "code",
   "execution_count": 8,
   "metadata": {
    "ExecuteTime": {
     "end_time": "2018-07-27T17:15:40.798221Z",
     "start_time": "2018-07-27T17:15:40.740655Z"
    }
   },
   "outputs": [],
   "source": [
    "y_predict = grid.predict(X_test)"
   ]
  },
  {
   "cell_type": "code",
   "execution_count": 9,
   "metadata": {
    "ExecuteTime": {
     "end_time": "2018-07-27T17:15:49.476678Z",
     "start_time": "2018-07-27T17:15:49.468221Z"
    }
   },
   "outputs": [
    {
     "data": {
      "text/plain": [
       "array([1, 3, 0, 4, 0, 9, 6, 5, 9, 8, 8, 2, 8, 4, 1, 1, 5, 3, 3, 7, 6, 4,\n",
       "       2, 5, 0, 3, 9, 7, 9, 9, 4, 6, 9, 6, 3, 4, 4, 9, 2, 4, 7, 1, 6, 4,\n",
       "       1, 8, 0, 0, 3, 4, 4, 7, 3, 0, 6, 8, 9, 5, 9, 3, 4, 3, 6, 7, 7, 7,\n",
       "       2, 3, 5, 4, 0, 4, 4, 8, 6, 9, 9, 8, 0, 5, 4, 4, 9, 2, 7, 1, 2, 0,\n",
       "       1, 8, 0, 4, 4, 5, 8, 1, 0, 9, 2, 8, 3, 1, 8, 6, 3, 7, 1, 5, 7, 6,\n",
       "       7, 1, 6, 0, 8, 6, 9, 9, 0, 5, 6, 8, 0, 5, 1, 3, 8, 2, 9, 9, 1, 4,\n",
       "       2, 2, 0, 2, 5, 9, 2, 6, 2, 9, 0, 9, 4, 8, 4, 1, 7, 7, 1, 5, 4, 6,\n",
       "       0, 3, 7, 4, 4, 6, 9, 2, 7, 5, 1, 7, 4, 2, 4, 5, 6, 2, 9, 6, 2, 9,\n",
       "       1, 6, 6, 1, 0, 9, 1, 8, 2, 1, 7, 9, 3, 4, 6, 7, 2, 2, 4, 7, 0, 7,\n",
       "       9, 1, 7, 5, 2, 1, 2, 6, 9, 6, 5, 6, 3, 5, 5, 4, 4, 5, 3, 0, 1, 4,\n",
       "       4, 8, 0, 5, 7, 2, 5, 9, 4, 0, 2, 5, 8, 3, 6, 6, 6, 4, 7, 4, 6, 8,\n",
       "       3, 5, 1, 2, 5, 4, 9, 4, 9, 7, 1, 6, 1, 0, 3, 3, 8, 7, 8, 1, 5, 9,\n",
       "       6, 7, 5, 2, 4, 5, 3, 3, 5, 0, 2, 3, 3, 1, 4, 5, 5, 3, 4, 7, 7, 3,\n",
       "       6, 1, 9, 2, 3, 5, 6, 5, 8, 8, 6, 3, 0, 0, 4, 4, 2, 3, 1, 6, 2, 8,\n",
       "       1, 6, 9, 3, 7, 9, 9, 8, 0, 3, 0, 0, 8, 4, 1, 8, 7, 7, 1, 3, 6, 1,\n",
       "       3, 5, 9, 9, 7, 5, 0, 9, 6, 8, 1, 7, 5, 3, 0, 2, 4, 6, 7, 9, 2, 9,\n",
       "       4, 3, 3, 7, 9, 7, 7, 2, 1, 8, 6, 3, 6, 6, 4, 7, 3, 9, 5, 4, 4, 4,\n",
       "       5, 2, 2, 7, 5, 8, 5, 5, 6, 4, 4, 3, 9, 8, 4, 3, 0, 2, 0, 5, 3, 3,\n",
       "       6, 3, 0, 2, 5, 2, 6, 5, 6, 6, 3, 5, 8, 0, 5, 6, 1, 2, 9, 2, 7, 8,\n",
       "       6, 9, 9, 9, 5, 2, 4, 8, 8, 7, 8, 7, 0, 7, 7, 2, 2, 5, 6, 5, 2, 9,\n",
       "       3, 7, 1, 8, 2, 5, 0, 7, 5, 5, 4, 8, 1, 0, 8, 6, 3, 3, 7, 4, 4, 2,\n",
       "       8, 2, 0, 9, 2, 0, 5, 6, 2, 6, 9, 8, 2, 8, 9, 4, 2, 2, 4, 6, 7, 8,\n",
       "       2, 0, 9, 0, 3, 2, 0, 7, 6, 3, 9, 0, 7, 9, 4, 9, 0, 8, 2, 4, 8, 1,\n",
       "       9, 8, 2, 9, 8, 4, 7, 0, 8, 8, 7, 8, 3, 5, 8, 7, 7, 3, 1, 6, 0, 6,\n",
       "       8, 3, 6, 0, 1, 7, 0, 1, 5, 2, 5, 9])"
      ]
     },
     "execution_count": 9,
     "metadata": {},
     "output_type": "execute_result"
    }
   ],
   "source": [
    "y_predict"
   ]
  },
  {
   "cell_type": "code",
   "execution_count": 10,
   "metadata": {
    "ExecuteTime": {
     "end_time": "2018-07-27T17:15:59.518788Z",
     "start_time": "2018-07-27T17:15:59.502582Z"
    }
   },
   "outputs": [
    {
     "data": {
      "text/plain": [
       "array([[49,  0,  0,  0,  0,  0,  0,  0,  0,  0],\n",
       "       [ 0, 43,  0,  0,  0,  0,  0,  0,  0,  0],\n",
       "       [ 0,  0, 57,  0,  0,  0,  0,  1,  0,  0],\n",
       "       [ 0,  0,  0, 53,  0,  0,  0,  0,  0,  0],\n",
       "       [ 0,  0,  0,  0, 61,  0,  0,  0,  0,  0],\n",
       "       [ 0,  0,  0,  0,  0, 55,  0,  0,  0,  0],\n",
       "       [ 0,  0,  0,  0,  0,  0, 57,  0,  0,  0],\n",
       "       [ 0,  0,  0,  0,  0,  0,  0, 54,  0,  0],\n",
       "       [ 0,  0,  0,  0,  0,  0,  0,  0, 52,  0],\n",
       "       [ 0,  0,  0,  0,  0,  0,  0,  0,  0, 58]])"
      ]
     },
     "execution_count": 10,
     "metadata": {},
     "output_type": "execute_result"
    }
   ],
   "source": [
    "from sklearn.metrics import confusion_matrix\n",
    "\n",
    "confusion_matrix(y_test, y_predict)"
   ]
  },
  {
   "cell_type": "code",
   "execution_count": null,
   "metadata": {},
   "outputs": [],
   "source": []
  }
 ],
 "metadata": {
  "kernelspec": {
   "display_name": "Python 3",
   "language": "python",
   "name": "python3"
  },
  "language_info": {
   "codemirror_mode": {
    "name": "ipython",
    "version": 3
   },
   "file_extension": ".py",
   "mimetype": "text/x-python",
   "name": "python",
   "nbconvert_exporter": "python",
   "pygments_lexer": "ipython3",
   "version": "3.6.5"
  },
  "varInspector": {
   "cols": {
    "lenName": 16,
    "lenType": 16,
    "lenVar": 40
   },
   "kernels_config": {
    "python": {
     "delete_cmd_postfix": "",
     "delete_cmd_prefix": "del ",
     "library": "var_list.py",
     "varRefreshCmd": "print(var_dic_list())"
    },
    "r": {
     "delete_cmd_postfix": ") ",
     "delete_cmd_prefix": "rm(",
     "library": "var_list.r",
     "varRefreshCmd": "cat(var_dic_list()) "
    }
   },
   "types_to_exclude": [
    "module",
    "function",
    "builtin_function_or_method",
    "instance",
    "_Feature"
   ],
   "window_display": false
  }
 },
 "nbformat": 4,
 "nbformat_minor": 2
}
