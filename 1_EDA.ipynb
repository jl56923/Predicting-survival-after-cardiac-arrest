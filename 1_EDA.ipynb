{
 "cells": [
  {
   "cell_type": "markdown",
   "metadata": {},
   "source": [
    "# Exploratory Data Analysis\n",
    "\n",
    "## Goal\n",
    "\n",
    "The overall goal of this project is to build a binary classifier that predicts survival for patients who have experienced cardiac arrest, using the public use 2011 Texas hospital discharge data set."
   ]
  },
  {
   "cell_type": "markdown",
   "metadata": {},
   "source": [
    "## Merge data into single dataframe, create predictor groups"
   ]
  },
  {
   "cell_type": "code",
   "execution_count": 1,
   "metadata": {},
   "outputs": [],
   "source": [
    "import numpy as np\n",
    "import pandas as pd\n",
    "import pickle\n",
    "import matplotlib.pyplot as plt\n",
    "\n",
    "%matplotlib inline"
   ]
  },
  {
   "cell_type": "markdown",
   "metadata": {},
   "source": [
    "First, let's load in the pickled dataframes for each quarter's cardiac arrest patients."
   ]
  },
  {
   "cell_type": "code",
   "execution_count": 2,
   "metadata": {},
   "outputs": [],
   "source": [
    "with open('data/cardiac_arrest_dfs.pkl', 'rb') as picklefile:\n",
    "    [q1_df, q2_df, q3_df, q4_df] = pickle.load(picklefile)"
   ]
  },
  {
   "cell_type": "code",
   "execution_count": 12,
   "metadata": {},
   "outputs": [
    {
     "name": "stdout",
     "output_type": "stream",
     "text": [
      "set()\n",
      "set()\n",
      "set()\n",
      "set()\n",
      "set()\n",
      "set()\n"
     ]
    }
   ],
   "source": [
    "# Let's confirm that all 4 data frames have the same columns. They do; there is no difference between\n",
    "# the sets of columns for each dataframe pair-wise.\n",
    "\n",
    "print((set(q1_df.columns)).difference(set(q2_df.columns)))\n",
    "print((set(q1_df.columns)).difference(set(q3_df.columns)))\n",
    "print((set(q1_df.columns)).difference(set(q4_df.columns)))\n",
    "\n",
    "print((set(q2_df.columns)).difference(set(q3_df.columns)))\n",
    "print((set(q2_df.columns)).difference(set(q4_df.columns)))\n",
    "\n",
    "print((set(q3_df.columns)).difference(set(q4_df.columns)))"
   ]
  },
  {
   "cell_type": "code",
   "execution_count": 16,
   "metadata": {},
   "outputs": [
    {
     "data": {
      "text/plain": [
       "(13183, 194)"
      ]
     },
     "execution_count": 16,
     "metadata": {},
     "output_type": "execute_result"
    }
   ],
   "source": [
    "# Let's merge all of the dataframes together to get the dataframe for the year.\n",
    "master_2011_df = pd.concat([q1_df, q2_df, q3_df, q4_df], ignore_index=True)\n",
    "\n",
    "master_2011_df.shape"
   ]
  },
  {
   "cell_type": "code",
   "execution_count": 20,
   "metadata": {},
   "outputs": [
    {
     "data": {
      "text/html": [
       "<div>\n",
       "<style scoped>\n",
       "    .dataframe tbody tr th:only-of-type {\n",
       "        vertical-align: middle;\n",
       "    }\n",
       "\n",
       "    .dataframe tbody tr th {\n",
       "        vertical-align: top;\n",
       "    }\n",
       "\n",
       "    .dataframe thead th {\n",
       "        text-align: right;\n",
       "    }\n",
       "</style>\n",
       "<table border=\"1\" class=\"dataframe\">\n",
       "  <thead>\n",
       "    <tr style=\"text-align: right;\">\n",
       "      <th></th>\n",
       "      <th>record_id</th>\n",
       "      <th>discharge</th>\n",
       "      <th>thcic_id</th>\n",
       "      <th>provider_name</th>\n",
       "      <th>type_of_admission</th>\n",
       "      <th>source_of_admission</th>\n",
       "      <th>spec_unit_1</th>\n",
       "      <th>spec_unit_2</th>\n",
       "      <th>spec_unit_3</th>\n",
       "      <th>spec_unit_4</th>\n",
       "      <th>...</th>\n",
       "      <th>apr_drg</th>\n",
       "      <th>risk_mortality</th>\n",
       "      <th>illness_severity</th>\n",
       "      <th>apr_grouper_version_nbr</th>\n",
       "      <th>apr_grouper_error_code</th>\n",
       "      <th>attending_physician_unif_id</th>\n",
       "      <th>operating_physician_unif_id</th>\n",
       "      <th>encounter_indicator</th>\n",
       "      <th>cert_status</th>\n",
       "      <th>filler_space</th>\n",
       "    </tr>\n",
       "  </thead>\n",
       "  <tbody>\n",
       "  </tbody>\n",
       "</table>\n",
       "<p>0 rows × 194 columns</p>\n",
       "</div>"
      ],
      "text/plain": [
       "Empty DataFrame\n",
       "Columns: [record_id, discharge, thcic_id, provider_name, type_of_admission, source_of_admission, spec_unit_1, spec_unit_2, spec_unit_3, spec_unit_4, spec_unit_5, pat_state, pat_zip, pat_country, county, public_health_region, pat_status, sex_code, race, ethnicity, admit_weekday, length_of_stay, pat_age, first_payment_src, secondary_payment_src, type_of_bill, total_charges, total_non_cov_charges, total_charges_accomm, total_non_cov_charges_accomm, total_charges_ancil, total_non_cov_charges_ancil, poa_provider_indicator, admitting_diagnosis, princ_diag_code, poa_princ_diag_code, oth_diag_code_1, poa_oth_diag_code_1, oth_diag_code_2, poa_oth_diag_code_2, oth_diag_code_3, poa_oth_diag_code_3, oth_diag_code_4, poa_oth_diag_code_4, oth_diag_code_5, poa_oth_diag_code_5, oth_diag_code_6, poa_oth_diag_code_6, oth_diag_code_7, poa_oth_diag_code_7, oth_diag_code_8, poa_oth_diag_code_8, oth_diag_code_9, poa_oth_diag_code_9, oth_diag_code_10, poa_oth_diag_code_10, oth_diag_code_11, poa_oth_diag_code_11, oth_diag_code_12, poa_oth_diag_code_12, oth_diag_code_13, poa_oth_diag_code_13, oth_diag_code_14, poa_oth_diag_code_14, oth_diag_code_15, poa_oth_diag_code_15, oth_diag_code_16, poa_oth_diag_code_16, oth_diag_code_17, poa_oth_diag_code_17, oth_diag_code_18, poa_oth_diag_code_18, oth_diag_code_19, poa_oth_diag_code_19, oth_diag_code_20, poa_oth_diag_code_20, oth_diag_code_21, poa_oth_diag_code_21, oth_diag_code_22, poa_oth_diag_code_22, oth_diag_code_23, poa_oth_diag_code_23, oth_diag_code_24, poa_oth_diag_code_24, e_code_1, poa_e_code_1, e_code_2, poa_e_code_2, e_code_3, poa_e_code_3, e_code_4, poa_e_code_4, e_code_5, poa_e_code_5, e_code_6, poa_e_code_6, e_code_7, poa_e_code_7, e_code_8, poa_e_code_8, ...]\n",
       "Index: []\n",
       "\n",
       "[0 rows x 194 columns]"
      ]
     },
     "execution_count": 20,
     "metadata": {},
     "output_type": "execute_result"
    }
   ],
   "source": [
    "# Let's look for any duplicate encounters, which means any rows where the record_id is the same.\n",
    "# This is an empty dataframe, which means that all of the record_ids are unique.\n",
    "master_2011_df[master_2011_df.duplicated(subset='record_id')]"
   ]
  },
  {
   "cell_type": "markdown",
   "metadata": {},
   "source": [
    "Let's separate out the columns that we will use as predictors, and also the column that we will use as a target.\n",
    "\n",
    "target: patient status (at time of discharge)\n",
    "\n",
    "Predictor group 1: Personal demographics\n",
    "* Age\n",
    "* Gender\n",
    "* Race\n",
    "* Ethnicity\n",
    "* Primary payer (Medicare, Medicaid, private insurance, etc.)\n",
    "* Patient zip code/county\n",
    "\n",
    "Predictor group 2: Details about hospital stay\n",
    "* Day of the week patient admitted (difference between mortality in patients admitted on weekday vs weekend?)\n",
    "* Type of hospital patient is admitted to; academic vs private vs community vs critical access hospitals\n",
    "* Length of stay\n",
    "* Type of admission (urgent vs emergent vs elective)\n",
    "* Source of admission\n",
    "\n",
    "Predictor group 3: Medical/procedural\n",
    "* In-hospital vs out-of-hospital cardiac arrest (presumably, patients who had an admitting diagnosis of cardiac arrest experienced their arrest out-of-hospital, although there may be inaccuracy here if the patient was transferred from another hospital; need to account for this by looking at the source of admission)\n",
    "* Other associated diagnosis codes, e.g. diabetes, heart failure, etc.\n",
    "* Other associated procedural codes, e.g. heart surgery, mechanical ventilation, etc.\n",
    "* Can separate out the associated diagnosis codes to distinguish between the medical conditions that are present on arrival (e.g. chronic conditions) vs medical conditions that develop during the hospital stay."
   ]
  },
  {
   "cell_type": "code",
   "execution_count": 107,
   "metadata": {},
   "outputs": [],
   "source": [
    "target = 'pat_status'\n",
    "\n",
    "index = 'record_id'\n",
    "\n",
    "personal_demographic_predictors = ['pat_age', 'sex_code', 'race', 'ethnicity', 'pat_state', 'pat_zip', 'pat_country', 'county', 'first_payment_src', 'secondary_payment_src']\n",
    "hospital_stay_predictors = ['provider_name', 'type_of_admission', 'source_of_admission', 'admit_weekday', 'length_of_stay', 'type_of_bill']\n",
    "\n",
    "diag_codes_predictors = ['admitting_diagnosis']\n",
    "diag_codes_predictors.extend([col for col in master_2011_df.columns if 'diag_code' in col])\n",
    "\n",
    "e_code_predictors = [col for col in master_2011_df.columns if 'e_code' in col]\n",
    "\n",
    "proc_code_predictors = ['princ_surg_proc_code', 'princ_surg_proc_day', 'princ_icd9_code']\n",
    "proc_code_predictors.extend([col for col in master_2011_df.columns if 'oth_surg' in col or 'oth_icd9' in col])"
   ]
  },
  {
   "cell_type": "code",
   "execution_count": 94,
   "metadata": {},
   "outputs": [],
   "source": [
    "z = master_2011_df[target].value_counts()\n",
    "\n",
    "new_index = []\n",
    "\n",
    "for i in z.index:\n",
    "    new_index.append(pat_status_dict[i])\n",
    "    \n",
    "z.index = new_index"
   ]
  },
  {
   "cell_type": "code",
   "execution_count": 95,
   "metadata": {},
   "outputs": [
    {
     "data": {
      "text/plain": [
       "Expired                                                                                              8183\n",
       "Discharged to home or self-care (routine discharge)                                                  1643\n",
       "Discharged/transferred to Medicare-certified long term care hospital                                  794\n",
       "Discharged to skilled nursing facility                                                                565\n",
       "Discharged to care of home health service                                                             486\n",
       "Discharged to hospice–medical facility                                                                425\n",
       "Discharged to other short term general hospital                                                       368\n",
       "Discharged/transferred to inpatient rehabilitation facility                                           353\n",
       "Discharged to hospice–home                                                                            112\n",
       "Discharged to intermediate care facility                                                               84\n",
       "Invalid                                                                                                30\n",
       "Left against medical advice                                                                            25\n",
       "Discharged/transferred to a Designated Cancer Center or Children's Hospital (effective 10-1-2007)      22\n",
       "Discharged/transferred to Medicaid-certified nursing facility                                          21\n",
       "Discharged/transferred to federal health care facility                                                 21\n",
       "Discharged/transferred to psychiatric hospital or psychiatric distinct part of a hospital              19\n",
       "Expired in a medical facility                                                                          13\n",
       "Discharged/transferred within this institution to Medicare-approved swing bed                           5\n",
       "Still patient                                                                                           5\n",
       "Discharged/transferred to Critical Access Hospital (CAH)                                                3\n",
       "Admitted as inpatient to this hospital                                                                  3\n",
       "Discharged to care of Home IV provider                                                                  2\n",
       "Expired, place unknown                                                                                  1\n",
       "Name: pat_status, dtype: int64"
      ]
     },
     "execution_count": 95,
     "metadata": {},
     "output_type": "execute_result"
    }
   ],
   "source": [
    "z"
   ]
  },
  {
   "cell_type": "code",
   "execution_count": 93,
   "metadata": {},
   "outputs": [],
   "source": [
    "pat_status_dict = {\n",
    "    \"01\": \"Discharged to home or self-care (routine discharge)\",\n",
    "    \"02\": \"Discharged to other short term general hospital\", \n",
    "    \"03\": \"Discharged to skilled nursing facility\",\n",
    "    \"04\": \"Discharged to intermediate care facility\",\n",
    "    \"05\": \"Discharged/transferred to a Designated Cancer Center or Children's Hospital (effective 10-1-2007)\",\n",
    "    \"06\": \"Discharged to care of home health service\",\n",
    "    \"07\": \"Left against medical advice\",\n",
    "    \"08\": \"Discharged to care of Home IV provider\",\n",
    "    \"09\": \"Admitted as inpatient to this hospital\",\n",
    "    \"20\": \"Expired\",\n",
    "    \"30\": \"Still patient\",\n",
    "    \"40\": \"Expired at home\",\n",
    "    \"41\": \"Expired in a medical facility\",\n",
    "    \"42\": \"Expired, place unknown\",\n",
    "    \"43\": \"Discharged/transferred to federal health care facility\",\n",
    "    \"50\": \"Discharged to hospice–home\",\n",
    "    \"51\": \"Discharged to hospice–medical facility\",\n",
    "    \"61\": \"Discharged/transferred within this institution to Medicare-approved swing bed\",\n",
    "    \"62\": \"Discharged/transferred to inpatient rehabilitation facility\",\n",
    "    \"63\": \"Discharged/transferred to Medicare-certified long term care hospital\",\n",
    "    \"64\": \"Discharged/transferred to Medicaid-certified nursing facility\",\n",
    "    \"65\": \"Discharged/transferred to psychiatric hospital or psychiatric distinct part of a hospital\",\n",
    "    \"66\": \"Discharged/transferred to Critical Access Hospital (CAH)\",\n",
    "    \"71\": \"Discharged/transferred to other outpatient service\",\n",
    "    \"72\": \"Discharged/transferred to institution outpatient\",\n",
    "    \"`\": \"Invalid\"\n",
    "}"
   ]
  },
  {
   "cell_type": "markdown",
   "metadata": {},
   "source": [
    "## Transform columns\n",
    "\n",
    "We now have to transform the features of the dataframe into a form where we can actually run our different models on the data set."
   ]
  },
  {
   "cell_type": "markdown",
   "metadata": {},
   "source": [
    "### Target variable transformation:\n",
    "\n",
    "First, we'll tackle the target variable. For a minimum viable product, we need to transform the target into a binary target, and then also select only the records that have the appropriate values for pat_status that we're looking at.\n",
    "\n",
    "https://erikrood.com/Python_References/rows_cols_python.html\n",
    "\n",
    "To select rows whose column value is in an iterable array, which we'll define as array, you can use isin:\n",
    "\n",
    "    array = ['yellow', 'green']\n",
    "    df.loc[df['favorite_color'].isin(array)]"
   ]
  },
  {
   "cell_type": "code",
   "execution_count": 134,
   "metadata": {},
   "outputs": [],
   "source": [
    "target_binary_dict = {\n",
    "    \"Expired\": [\"20\", \"40\", \"41\", \"50\", \"51\"],\n",
    "    \"Alive\": [\"01\", \"03\", \"04\", \"06\", \"07\", \"62\", \"63\", \"64\"]\n",
    "}\n",
    "\n",
    "target_ternary_dict = {\n",
    "    \"Expired\": [\"20\", \"40\", \"41\", \"50\", \"51\"],\n",
    "    \"Facility\": [\"03\", \"04\", \"06\", \"62\", \"63\", \"64\"],\n",
    "    \"Home\": [\"01\", \"06\", \"07\"]\n",
    "}"
   ]
  },
  {
   "cell_type": "code",
   "execution_count": 146,
   "metadata": {},
   "outputs": [],
   "source": [
    "# We make a copy of the filtered master dataframe so that python won't yell about making changes to a slice of an array.\n",
    "expired_df = master_2011_df[master_2011_df[target].isin(target_binary_dict['Expired'])].copy()\n",
    "alive_df = master_2011_df[master_2011_df[target].isin(target_binary_dict['Alive'])].copy()"
   ]
  },
  {
   "cell_type": "code",
   "execution_count": 147,
   "metadata": {},
   "outputs": [],
   "source": [
    "# Now, let's set the value of target/pat_status for expired_df to 'expired' and for alive_df to 'alive'.\n",
    "\n",
    "expired_df[target] = \"expired\"\n",
    "alive_df[target] = \"alive\""
   ]
  },
  {
   "cell_type": "code",
   "execution_count": 154,
   "metadata": {},
   "outputs": [],
   "source": [
    "# Let's concatenate these frames back together. We can also set the record number as the index.\n",
    "binary_df = pd.concat([expired_df, alive_df], ignore_index=True)\n",
    "binary_df.set_index(index, inplace=True)"
   ]
  },
  {
   "cell_type": "code",
   "execution_count": 156,
   "metadata": {},
   "outputs": [],
   "source": [
    "# Now we can set y as equal to the target column of binary_df, and this is a vector of 'alive' and 'expired'.\n",
    "y = binary_df[target]"
   ]
  },
  {
   "cell_type": "code",
   "execution_count": 158,
   "metadata": {},
   "outputs": [
    {
     "data": {
      "text/plain": [
       "['admitting_diagnosis',\n",
       " 'princ_diag_code',\n",
       " 'poa_princ_diag_code',\n",
       " 'oth_diag_code_1',\n",
       " 'poa_oth_diag_code_1',\n",
       " 'oth_diag_code_2',\n",
       " 'poa_oth_diag_code_2',\n",
       " 'oth_diag_code_3',\n",
       " 'poa_oth_diag_code_3',\n",
       " 'oth_diag_code_4',\n",
       " 'poa_oth_diag_code_4',\n",
       " 'oth_diag_code_5',\n",
       " 'poa_oth_diag_code_5',\n",
       " 'oth_diag_code_6',\n",
       " 'poa_oth_diag_code_6',\n",
       " 'oth_diag_code_7',\n",
       " 'poa_oth_diag_code_7',\n",
       " 'oth_diag_code_8',\n",
       " 'poa_oth_diag_code_8',\n",
       " 'oth_diag_code_9',\n",
       " 'poa_oth_diag_code_9',\n",
       " 'oth_diag_code_10',\n",
       " 'poa_oth_diag_code_10',\n",
       " 'oth_diag_code_11',\n",
       " 'poa_oth_diag_code_11',\n",
       " 'oth_diag_code_12',\n",
       " 'poa_oth_diag_code_12',\n",
       " 'oth_diag_code_13',\n",
       " 'poa_oth_diag_code_13',\n",
       " 'oth_diag_code_14',\n",
       " 'poa_oth_diag_code_14',\n",
       " 'oth_diag_code_15',\n",
       " 'poa_oth_diag_code_15',\n",
       " 'oth_diag_code_16',\n",
       " 'poa_oth_diag_code_16',\n",
       " 'oth_diag_code_17',\n",
       " 'poa_oth_diag_code_17',\n",
       " 'oth_diag_code_18',\n",
       " 'poa_oth_diag_code_18',\n",
       " 'oth_diag_code_19',\n",
       " 'poa_oth_diag_code_19',\n",
       " 'oth_diag_code_20',\n",
       " 'poa_oth_diag_code_20',\n",
       " 'oth_diag_code_21',\n",
       " 'poa_oth_diag_code_21',\n",
       " 'oth_diag_code_22',\n",
       " 'poa_oth_diag_code_22',\n",
       " 'oth_diag_code_23',\n",
       " 'poa_oth_diag_code_23',\n",
       " 'oth_diag_code_24',\n",
       " 'poa_oth_diag_code_24']"
      ]
     },
     "execution_count": 158,
     "metadata": {},
     "output_type": "execute_result"
    }
   ],
   "source": [
    "diag_codes_predictors"
   ]
  },
  {
   "cell_type": "code",
   "execution_count": null,
   "metadata": {},
   "outputs": [],
   "source": []
  },
  {
   "cell_type": "code",
   "execution_count": null,
   "metadata": {},
   "outputs": [],
   "source": []
  },
  {
   "cell_type": "code",
   "execution_count": null,
   "metadata": {},
   "outputs": [],
   "source": []
  },
  {
   "cell_type": "code",
   "execution_count": null,
   "metadata": {},
   "outputs": [],
   "source": []
  },
  {
   "cell_type": "markdown",
   "metadata": {},
   "source": [
    "The predictors that are important are likely going to be different for in-hospital vs out-of-hospital cardiac arrests; how to account for this? could split the populations manually.\n",
    "\n",
    "The columns that I would be interested in as predictors:\n",
    "* provider_name (also the same as thcic_id)\n",
    "* type_of_admission (exclude 4 which is Newborn, and 9 which is unknown? prob okay to include 9)\n",
    "* source_of_admission\n",
    "* patient_state (can likely separate into in-state vs out of state patients)\n",
    "* pat_zip (patient zip code)\n",
    "* county (fips code)\n",
    "* public_health_region\n",
    "* sex_code\n",
    "* race\n",
    "* ethnicity\n",
    "* admit_weekday (weekend vs weekday)\n",
    "* length_of_stay\n",
    "* pat_age (patient age on day of discharge)\n",
    "* first_payment_src\n",
    "* secondary_payment_src\n",
    "* admitting_diagnosis (this would be how you would split the data between out-of-hospital vs in-hospital cardiac arrests)\n",
    "* all of the other diagnoses codes (this is how you can figure out what are the comorbidities for these patients; you could use the most common ?chronic comorbidities as predictors, e.g. the presence or absence of them in any of the diagnoses codes; will have to do rearranging of this dataframe in order to come up with these 'flag' variables)\n",
    "* e-code (again, you should probably look to see if there are external injury codes that come up particularly frequently, and then use those as flag variables)\n",
    "* procedure codes (again, look at the procedures that are most frequently performed on these patients, use them as flags; these primarily serve as a surrogate marker for how severe the disease is, e.g. if a patient requires a cardiac cath then they're sick, if they require a CABG then they're probably sicker, etc.) --> if you have time to get really granular about it, there are fields that records on which day a procedure occurred, you could try to tie that in somehow.\n",
    "* MS-MDC (major diagnosis code; not sure if it will add more info than already provided in the diagnosis codes, but maybe?)\n",
    "* MS-DRG (diagnosis-related group)\n",
    "* risk_mortality (Assignment of a risk of mortality score from the All Patient Refined (APR) Diagnosis Related\n",
    "* Group (DRG) from the 3M APR-DRG Grouper. Indicates the likelihood of dying.)\n",
    "* illness_severity (Assignment of a severity of illness score from the All Patient Refined (APR) Diagnosis Related\n",
    "* Group (DRG) from the 3M APR-DRG Grouper. Indicates the extent of physiologic decompensation.)\n",
    "* attending_physician\n",
    "* operating_physician\n",
    "\n",
    "Target variable:\n",
    "* pat_status -> for a binary classifier, you could separate it out into either expired (20, 40, 41, 42) or hospice (50, 51) vs alive at discharge. You could probably more usefully separate it into 3 classes, which is expired, discharged home, and discharged to some other facility (but probably more specifically a SNF or inpatient rehability facility). You should probably pull all the rows where the patients experienced a cardiac arrest, and see what their patient status is.\n"
   ]
  },
  {
   "cell_type": "code",
   "execution_count": 132,
   "metadata": {},
   "outputs": [
    {
     "data": {
      "text/plain": [
       "51881    60\n",
       "3481     11\n",
       "5856      9\n",
       "5849      7\n",
       "2762      5\n",
       "3485      5\n",
       "570       5\n",
       "0389      4\n",
       "5845      4\n",
       "25000     4\n",
       "5185      3\n",
       "486       3\n",
       "42741     2\n",
       "4280      1\n",
       "43491     1\n",
       "5789      1\n",
       "25012     1\n",
       "34590     1\n",
       "41011     1\n",
       "4233      1\n",
       "4254      1\n",
       "4019      1\n",
       "41400     1\n",
       "41519     1\n",
       "9916      1\n",
       "41071     1\n",
       "V667      1\n",
       "4413      1\n",
       "34831     1\n",
       "56089     1\n",
       "5184      1\n",
       "42781     1\n",
       "2760      1\n",
       "86350     1\n",
       "20300     1\n",
       "34830     1\n",
       "29040     1\n",
       "9971      1\n",
       "41401     1\n",
       "5990      1\n",
       "4255      1\n",
       "7802      1\n",
       "7854      1\n",
       "430       1\n",
       "2639      1\n",
       "49392     1\n",
       "V4511     1\n",
       "5070      1\n",
       "1550      1\n",
       "496       1\n",
       "042       1\n",
       "41090     1\n",
       "7530      1\n",
       "78001     1\n",
       "3453      1\n",
       "Name: oth_diag_code_1, dtype: int64"
      ]
     },
     "execution_count": 132,
     "metadata": {},
     "output_type": "execute_result"
    }
   ],
   "source": [
    "t_df['oth_diag_code_1'].value_counts()"
   ]
  }
 ],
 "metadata": {
  "kernelspec": {
   "display_name": "Python 3",
   "language": "python",
   "name": "python3"
  },
  "language_info": {
   "codemirror_mode": {
    "name": "ipython",
    "version": 3
   },
   "file_extension": ".py",
   "mimetype": "text/x-python",
   "name": "python",
   "nbconvert_exporter": "python",
   "pygments_lexer": "ipython3",
   "version": "3.6.5"
  }
 },
 "nbformat": 4,
 "nbformat_minor": 2
}
