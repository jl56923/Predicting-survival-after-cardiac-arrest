{
 "cells": [
  {
   "cell_type": "code",
   "execution_count": 12,
   "metadata": {},
   "outputs": [],
   "source": [
    "import numpy as np\n",
    "import pandas as pd\n",
    "import sklearn\n",
    "from sklearn.feature_selection import SelectKBest\n",
    "from sklearn.feature_selection import chi2\n",
    "\n",
    "import pickle"
   ]
  },
  {
   "cell_type": "code",
   "execution_count": 5,
   "metadata": {},
   "outputs": [
    {
     "name": "stdout",
     "output_type": "stream",
     "text": [
      "X_train_test_y_train_test.pkl\n",
      "cardiac_arrest_dfs.pkl\n",
      "dem_hosp_dx_proc_orig_X_dfs.pkl\n",
      "logr_tree_forest_gridsearch.pkl\n"
     ]
    }
   ],
   "source": [
    "%%bash\n",
    "ls pkls"
   ]
  },
  {
   "cell_type": "code",
   "execution_count": 39,
   "metadata": {},
   "outputs": [],
   "source": [
    "with open('pkls/X_train_test_y_train_test.pkl', 'rb') as picklefile:\n",
    "    [X_train, X_test, y_train, y_test] = pickle.load(picklefile)"
   ]
  },
  {
   "cell_type": "code",
   "execution_count": 40,
   "metadata": {},
   "outputs": [
    {
     "data": {
      "text/plain": [
       "(10163, 135)"
      ]
     },
     "execution_count": 40,
     "metadata": {},
     "output_type": "execute_result"
    }
   ],
   "source": [
    "X_train.shape"
   ]
  },
  {
   "cell_type": "code",
   "execution_count": 44,
   "metadata": {},
   "outputs": [
    {
     "data": {
      "text/plain": [
       "count    10163.000000\n",
       "mean         9.215192\n",
       "std         14.446940\n",
       "min          1.000000\n",
       "25%          1.000000\n",
       "50%          5.000000\n",
       "75%         12.000000\n",
       "max        254.000000\n",
       "Name: length_of_stay, dtype: float64"
      ]
     },
     "execution_count": 44,
     "metadata": {},
     "output_type": "execute_result"
    }
   ],
   "source": [
    "X_train['length_of_stay'].describe()"
   ]
  },
  {
   "cell_type": "code",
   "execution_count": 13,
   "metadata": {},
   "outputs": [
    {
     "data": {
      "text/plain": [
       "array([[0, 1, 0, ..., 0, 0, 0],\n",
       "       [0, 1, 0, ..., 0, 1, 0],\n",
       "       [0, 0, 0, ..., 0, 0, 0],\n",
       "       ...,\n",
       "       [0, 1, 0, ..., 0, 0, 0],\n",
       "       [0, 1, 0, ..., 0, 0, 0],\n",
       "       [0, 1, 0, ..., 0, 0, 0]])"
      ]
     },
     "execution_count": 13,
     "metadata": {},
     "output_type": "execute_result"
    }
   ],
   "source": [
    "chi2_selector = SelectKBest(chi2, k=135)\n",
    "chi2_selector.fit_transform(X_train, y_train)"
   ]
  },
  {
   "cell_type": "code",
   "execution_count": 18,
   "metadata": {},
   "outputs": [],
   "source": [
    "feature_p_values = sorted(list(zip(X_train.columns, chi2_selector.pvalues_)), key=lambda x: x[1])"
   ]
  },
  {
   "cell_type": "code",
   "execution_count": 22,
   "metadata": {},
   "outputs": [],
   "source": [
    "features_chi2 = [x[0] for x in feature_p_values if x[1] < 0.001]"
   ]
  },
  {
   "cell_type": "code",
   "execution_count": 38,
   "metadata": {},
   "outputs": [
    {
     "ename": "ValueError",
     "evalue": "setting an array element with a sequence",
     "output_type": "error",
     "traceback": [
      "\u001b[0;31m---------------------------------------------------------------------------\u001b[0m",
      "\u001b[0;31mValueError\u001b[0m                                Traceback (most recent call last)",
      "\u001b[0;32m<ipython-input-38-a9952eac9044>\u001b[0m in \u001b[0;36m<module>\u001b[0;34m()\u001b[0m\n\u001b[0;32m----> 1\u001b[0;31m \u001b[0mX_train\u001b[0m\u001b[0;34m[\u001b[0m\u001b[0mfeatures_chi2\u001b[0m\u001b[0;34m]\u001b[0m\u001b[0;34m\u001b[0m\u001b[0m\n\u001b[0m",
      "\u001b[0;32m~/anaconda3/lib/python3.6/site-packages/pandas/core/frame.py\u001b[0m in \u001b[0;36m__getitem__\u001b[0;34m(self, key)\u001b[0m\n\u001b[1;32m   2677\u001b[0m         \u001b[0;32mif\u001b[0m \u001b[0misinstance\u001b[0m\u001b[0;34m(\u001b[0m\u001b[0mkey\u001b[0m\u001b[0;34m,\u001b[0m \u001b[0;34m(\u001b[0m\u001b[0mSeries\u001b[0m\u001b[0;34m,\u001b[0m \u001b[0mnp\u001b[0m\u001b[0;34m.\u001b[0m\u001b[0mndarray\u001b[0m\u001b[0;34m,\u001b[0m \u001b[0mIndex\u001b[0m\u001b[0;34m,\u001b[0m \u001b[0mlist\u001b[0m\u001b[0;34m)\u001b[0m\u001b[0;34m)\u001b[0m\u001b[0;34m:\u001b[0m\u001b[0;34m\u001b[0m\u001b[0m\n\u001b[1;32m   2678\u001b[0m             \u001b[0;31m# either boolean or fancy integer index\u001b[0m\u001b[0;34m\u001b[0m\u001b[0;34m\u001b[0m\u001b[0m\n\u001b[0;32m-> 2679\u001b[0;31m             \u001b[0;32mreturn\u001b[0m \u001b[0mself\u001b[0m\u001b[0;34m.\u001b[0m\u001b[0m_getitem_array\u001b[0m\u001b[0;34m(\u001b[0m\u001b[0mkey\u001b[0m\u001b[0;34m)\u001b[0m\u001b[0;34m\u001b[0m\u001b[0m\n\u001b[0m\u001b[1;32m   2680\u001b[0m         \u001b[0;32melif\u001b[0m \u001b[0misinstance\u001b[0m\u001b[0;34m(\u001b[0m\u001b[0mkey\u001b[0m\u001b[0;34m,\u001b[0m \u001b[0mDataFrame\u001b[0m\u001b[0;34m)\u001b[0m\u001b[0;34m:\u001b[0m\u001b[0;34m\u001b[0m\u001b[0m\n\u001b[1;32m   2681\u001b[0m             \u001b[0;32mreturn\u001b[0m \u001b[0mself\u001b[0m\u001b[0;34m.\u001b[0m\u001b[0m_getitem_frame\u001b[0m\u001b[0;34m(\u001b[0m\u001b[0mkey\u001b[0m\u001b[0;34m)\u001b[0m\u001b[0;34m\u001b[0m\u001b[0m\n",
      "\u001b[0;32m~/anaconda3/lib/python3.6/site-packages/pandas/core/frame.py\u001b[0m in \u001b[0;36m_getitem_array\u001b[0;34m(self, key)\u001b[0m\n\u001b[1;32m   2704\u001b[0m     \u001b[0;32mdef\u001b[0m \u001b[0m_getitem_array\u001b[0m\u001b[0;34m(\u001b[0m\u001b[0mself\u001b[0m\u001b[0;34m,\u001b[0m \u001b[0mkey\u001b[0m\u001b[0;34m)\u001b[0m\u001b[0;34m:\u001b[0m\u001b[0;34m\u001b[0m\u001b[0m\n\u001b[1;32m   2705\u001b[0m         \u001b[0;31m# also raises Exception if object array with NA values\u001b[0m\u001b[0;34m\u001b[0m\u001b[0;34m\u001b[0m\u001b[0m\n\u001b[0;32m-> 2706\u001b[0;31m         \u001b[0;32mif\u001b[0m \u001b[0mcom\u001b[0m\u001b[0;34m.\u001b[0m\u001b[0mis_bool_indexer\u001b[0m\u001b[0;34m(\u001b[0m\u001b[0mkey\u001b[0m\u001b[0;34m)\u001b[0m\u001b[0;34m:\u001b[0m\u001b[0;34m\u001b[0m\u001b[0m\n\u001b[0m\u001b[1;32m   2707\u001b[0m             \u001b[0;31m# warning here just in case -- previously __setitem__ was\u001b[0m\u001b[0;34m\u001b[0m\u001b[0;34m\u001b[0m\u001b[0m\n\u001b[1;32m   2708\u001b[0m             \u001b[0;31m# reindexing but __getitem__ was not; it seems more reasonable to\u001b[0m\u001b[0;34m\u001b[0m\u001b[0;34m\u001b[0m\u001b[0m\n",
      "\u001b[0;32m~/anaconda3/lib/python3.6/site-packages/pandas/core/common.py\u001b[0m in \u001b[0;36mis_bool_indexer\u001b[0;34m(key)\u001b[0m\n\u001b[1;32m    110\u001b[0m     \u001b[0;32melif\u001b[0m \u001b[0misinstance\u001b[0m\u001b[0;34m(\u001b[0m\u001b[0mkey\u001b[0m\u001b[0;34m,\u001b[0m \u001b[0mlist\u001b[0m\u001b[0;34m)\u001b[0m\u001b[0;34m:\u001b[0m\u001b[0;34m\u001b[0m\u001b[0m\n\u001b[1;32m    111\u001b[0m         \u001b[0;32mtry\u001b[0m\u001b[0;34m:\u001b[0m\u001b[0;34m\u001b[0m\u001b[0m\n\u001b[0;32m--> 112\u001b[0;31m             \u001b[0marr\u001b[0m \u001b[0;34m=\u001b[0m \u001b[0mnp\u001b[0m\u001b[0;34m.\u001b[0m\u001b[0masarray\u001b[0m\u001b[0;34m(\u001b[0m\u001b[0mkey\u001b[0m\u001b[0;34m)\u001b[0m\u001b[0;34m\u001b[0m\u001b[0m\n\u001b[0m\u001b[1;32m    113\u001b[0m             \u001b[0;32mreturn\u001b[0m \u001b[0marr\u001b[0m\u001b[0;34m.\u001b[0m\u001b[0mdtype\u001b[0m \u001b[0;34m==\u001b[0m \u001b[0mnp\u001b[0m\u001b[0;34m.\u001b[0m\u001b[0mbool_\u001b[0m \u001b[0;32mand\u001b[0m \u001b[0mlen\u001b[0m\u001b[0;34m(\u001b[0m\u001b[0marr\u001b[0m\u001b[0;34m)\u001b[0m \u001b[0;34m==\u001b[0m \u001b[0mlen\u001b[0m\u001b[0;34m(\u001b[0m\u001b[0mkey\u001b[0m\u001b[0;34m)\u001b[0m\u001b[0;34m\u001b[0m\u001b[0m\n\u001b[1;32m    114\u001b[0m         \u001b[0;32mexcept\u001b[0m \u001b[0mTypeError\u001b[0m\u001b[0;34m:\u001b[0m  \u001b[0;31m# pragma: no cover\u001b[0m\u001b[0;34m\u001b[0m\u001b[0m\n",
      "\u001b[0;32m~/anaconda3/lib/python3.6/site-packages/numpy/core/numeric.py\u001b[0m in \u001b[0;36masarray\u001b[0;34m(a, dtype, order)\u001b[0m\n\u001b[1;32m    490\u001b[0m \u001b[0;34m\u001b[0m\u001b[0m\n\u001b[1;32m    491\u001b[0m     \"\"\"\n\u001b[0;32m--> 492\u001b[0;31m     \u001b[0;32mreturn\u001b[0m \u001b[0marray\u001b[0m\u001b[0;34m(\u001b[0m\u001b[0ma\u001b[0m\u001b[0;34m,\u001b[0m \u001b[0mdtype\u001b[0m\u001b[0;34m,\u001b[0m \u001b[0mcopy\u001b[0m\u001b[0;34m=\u001b[0m\u001b[0;32mFalse\u001b[0m\u001b[0;34m,\u001b[0m \u001b[0morder\u001b[0m\u001b[0;34m=\u001b[0m\u001b[0morder\u001b[0m\u001b[0;34m)\u001b[0m\u001b[0;34m\u001b[0m\u001b[0m\n\u001b[0m\u001b[1;32m    493\u001b[0m \u001b[0;34m\u001b[0m\u001b[0m\n\u001b[1;32m    494\u001b[0m \u001b[0;34m\u001b[0m\u001b[0m\n",
      "\u001b[0;31mValueError\u001b[0m: setting an array element with a sequence"
     ]
    }
   ],
   "source": [
    "X_train[features_chi2]"
   ]
  },
  {
   "cell_type": "code",
   "execution_count": 37,
   "metadata": {},
   "outputs": [
    {
     "data": {
      "text/plain": [
       "record_id\n",
       "420110228939    0\n",
       "120113029558    0\n",
       "420110554090    0\n",
       "220110885917    0\n",
       "220110457324    1\n",
       "420110457222    0\n",
       "220110592088    0\n",
       "320110745728    0\n",
       "120110548982    1\n",
       "320110446341    0\n",
       "320110525520    0\n",
       "320110211693    0\n",
       "320110290016    0\n",
       "120110930281    0\n",
       "120110734058    0\n",
       "420110186331    0\n",
       "420110755875    1\n",
       "420110513621    0\n",
       "320110571173    0\n",
       "420110603715    0\n",
       "320110490822    0\n",
       "220110731075    0\n",
       "320110449464    1\n",
       "120110583421    0\n",
       "220110800840    0\n",
       "420110302003    0\n",
       "320110684865    0\n",
       "420110400538    1\n",
       "420110651641    1\n",
       "320110247102    0\n",
       "               ..\n",
       "120110561115    0\n",
       "120110657866    0\n",
       "120110811438    1\n",
       "320110804697    0\n",
       "120110424052    0\n",
       "120110422587    0\n",
       "120110649533    0\n",
       "320110328858    0\n",
       "120112908025    0\n",
       "120110631737    0\n",
       "420110610825    0\n",
       "120110472862    0\n",
       "420110516186    0\n",
       "420110548849    0\n",
       "420113155626    0\n",
       "120110560569    0\n",
       "120110842891    0\n",
       "420110824038    0\n",
       "220110592755    0\n",
       "120113006146    0\n",
       "420110621492    0\n",
       "420110656850    0\n",
       "320110279784    1\n",
       "420110586855    0\n",
       "220110697450    0\n",
       "220110461473    0\n",
       "220110580098    0\n",
       "420110201871    0\n",
       "120110510575    0\n",
       "420110300690    0\n",
       "Name: (2859, Y), Length: 10163, dtype: int64"
      ]
     },
     "execution_count": 37,
     "metadata": {},
     "output_type": "execute_result"
    }
   ],
   "source": [
    "X_train[('2859', 'Y')]"
   ]
  },
  {
   "cell_type": "code",
   "execution_count": 35,
   "metadata": {},
   "outputs": [
    {
     "data": {
      "text/plain": [
       "['sex_code_F',\n",
       " 'sex_code_M',\n",
       " 'sex_code_U',\n",
       " 'race_1',\n",
       " 'race_2',\n",
       " 'race_3',\n",
       " 'race_4',\n",
       " 'race_5',\n",
       " 'race_`',\n",
       " 'ethnicity_1',\n",
       " 'ethnicity_2',\n",
       " 'ethnicity_`',\n",
       " 'public_health_region_01',\n",
       " 'public_health_region_02',\n",
       " 'public_health_region_03',\n",
       " 'public_health_region_04',\n",
       " 'public_health_region_05',\n",
       " 'public_health_region_06',\n",
       " 'public_health_region_07',\n",
       " 'public_health_region_08',\n",
       " 'public_health_region_09',\n",
       " 'public_health_region_10',\n",
       " 'public_health_region_11',\n",
       " 'first_payment_src_09',\n",
       " 'first_payment_src_11',\n",
       " 'first_payment_src_12',\n",
       " 'first_payment_src_13',\n",
       " 'first_payment_src_14',\n",
       " 'first_payment_src_15',\n",
       " 'first_payment_src_16',\n",
       " 'first_payment_src_AM',\n",
       " 'first_payment_src_BL',\n",
       " 'first_payment_src_CH',\n",
       " 'first_payment_src_CI',\n",
       " 'first_payment_src_HM',\n",
       " 'first_payment_src_LM',\n",
       " 'first_payment_src_MA',\n",
       " 'first_payment_src_MB',\n",
       " 'first_payment_src_MC',\n",
       " 'first_payment_src_OF',\n",
       " 'first_payment_src_VA',\n",
       " 'first_payment_src_WC',\n",
       " 'first_payment_src_ZZ',\n",
       " 'pat_age',\n",
       " 'hiv_drug',\n",
       " 'type_of_admission_1',\n",
       " 'type_of_admission_2',\n",
       " 'type_of_admission_3',\n",
       " 'type_of_admission_4',\n",
       " 'type_of_admission_5',\n",
       " 'type_of_admission_9',\n",
       " 'source_of_admission_1',\n",
       " 'source_of_admission_2',\n",
       " 'source_of_admission_4',\n",
       " 'source_of_admission_5',\n",
       " 'source_of_admission_6',\n",
       " 'source_of_admission_7',\n",
       " 'source_of_admission_8',\n",
       " 'source_of_admission_9',\n",
       " 'source_of_admission_A',\n",
       " 'source_of_admission_D',\n",
       " 'source_of_admission_`',\n",
       " 'admit_weekday',\n",
       " 'length_of_stay',\n",
       " 'hospital_teaching',\n",
       " 'hospital_CAH',\n",
       " 'hospital_community',\n",
       " ('51881', 'Y'),\n",
       " ('4019', 'Y'),\n",
       " ('4280', 'Y'),\n",
       " ('41401', 'Y'),\n",
       " ('2724', 'Y'),\n",
       " ('25000', 'Y'),\n",
       " ('5849', 'Y'),\n",
       " ('3481', 'Y'),\n",
       " ('2762', 'Y'),\n",
       " ('42731', 'Y'),\n",
       " ('0389', 'Y'),\n",
       " ('2859', 'Y'),\n",
       " ('99592', 'Y'),\n",
       " ('40390', 'Y'),\n",
       " ('5856', 'Y'),\n",
       " ('486', 'Y'),\n",
       " ('496', 'Y'),\n",
       " ('3051', 'Y'),\n",
       " ('2449', 'Y'),\n",
       " ('51881', 'N'),\n",
       " ('5849', 'N'),\n",
       " ('2762', 'N'),\n",
       " ('0389', 'N'),\n",
       " ('99592', 'N'),\n",
       " ('3481', 'N'),\n",
       " ('2768', 'N'),\n",
       " ('4271', 'N'),\n",
       " ('5070', 'N'),\n",
       " ('2760', 'N'),\n",
       " ('78552', 'N'),\n",
       " ('42741', 'N'),\n",
       " ('42789', 'N'),\n",
       " ('486', 'N'),\n",
       " ('5180', 'N'),\n",
       " ('78551', 'N'),\n",
       " ('2851', 'N'),\n",
       " ('5845', 'N'),\n",
       " 'out_of_hospital_cardiac_arrest',\n",
       " '9604',\n",
       " '9671',\n",
       " '9960',\n",
       " '3893',\n",
       " '9904',\n",
       " '9672',\n",
       " '3891',\n",
       " '3995',\n",
       " '8856',\n",
       " '3722',\n",
       " '8853',\n",
       " '0017',\n",
       " '9907',\n",
       " '3897',\n",
       " '0066',\n",
       " '3895',\n",
       " '0040',\n",
       " '9962',\n",
       " '311',\n",
       " '9905',\n",
       " '3761',\n",
       " '9390',\n",
       " '8872',\n",
       " '3607',\n",
       " '0045',\n",
       " '3324',\n",
       " '4311',\n",
       " '3404',\n",
       " '3961',\n",
       " '9915']"
      ]
     },
     "execution_count": 35,
     "metadata": {},
     "output_type": "execute_result"
    }
   ],
   "source": [
    "list(X_train.columns)"
   ]
  },
  {
   "cell_type": "code",
   "execution_count": null,
   "metadata": {},
   "outputs": [],
   "source": []
  }
 ],
 "metadata": {
  "kernelspec": {
   "display_name": "Python 3",
   "language": "python",
   "name": "python3"
  },
  "language_info": {
   "codemirror_mode": {
    "name": "ipython",
    "version": 3
   },
   "file_extension": ".py",
   "mimetype": "text/x-python",
   "name": "python",
   "nbconvert_exporter": "python",
   "pygments_lexer": "ipython3",
   "version": "3.6.5"
  }
 },
 "nbformat": 4,
 "nbformat_minor": 2
}
