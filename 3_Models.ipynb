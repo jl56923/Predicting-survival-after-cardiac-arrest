{
 "cells": [
  {
   "cell_type": "markdown",
   "metadata": {},
   "source": [
    "## Models\n",
    "\n",
    "We can now load in the 4 dataframes for the 4 groups of predictors, and then merge them into a master predictor dataframe. We can then run different models on the master dataframe, and figure out which model is best."
   ]
  },
  {
   "cell_type": "code",
   "execution_count": 3,
   "metadata": {},
   "outputs": [],
   "source": [
    "# Import libraries\n",
    "import numpy as np\n",
    "import pandas as pd\n",
    "import pickle\n",
    "import matplotlib.pyplot as plt\n",
    "import requests\n",
    "import sklearn\n",
    "\n",
    "from collections import Counter\n",
    "\n",
    "# Import sklearn functions\n",
    "from sklearn.preprocessing import OneHotEncoder, LabelEncoder\n",
    "from sklearn.metrics import accuracy_score, confusion_matrix, classification_report, roc_curve, auc\n",
    "from sklearn.model_selection import train_test_split, GridSearchCV\n",
    "\n",
    "# Import models\n",
    "from sklearn.linear_model import LogisticRegression\n",
    "from sklearn.dummy import DummyClassifier\n",
    "from sklearn.tree import DecisionTreeClassifier\n",
    "from sklearn.ensemble import RandomForestClassifier\n",
    "\n",
    "\n",
    "\n",
    "from sklearn.metrics import accuracy_score, confusion_matrix, make_scorer, hamming_loss\n",
    "from sklearn.pipeline import Pipeline\n",
    "from sklearn.datasets import make_classification\n",
    "from sklearn.preprocessing import StandardScaler\n",
    "from sklearn.naive_bayes import GaussianNB\n",
    "from sklearn.svm import LinearSVC, SVC\n",
    "from collections import Counter\n",
    "from sklearn.linear_model import LogisticRegression\n",
    "from sklearn.tree import DecisionTreeClassifier\n",
    "from sklearn.ensemble import RandomForestClassifier\n",
    "\n",
    "import matplotlib.pyplot as plt\n",
    "import seaborn as sns\n",
    "from mlxtend.plotting import plot_decision_regions\n",
    "\n",
    "import pickle\n",
    "import numpy as np\n",
    "\n",
    "%matplotlib inline"
   ]
  },
  {
   "cell_type": "code",
   "execution_count": 4,
   "metadata": {},
   "outputs": [],
   "source": [
    "# Helper function for printing confusion matrices (see: https://gist.github.com/shaypal5/94c53d765083101efc0240d776a23823)\n",
    "def print_confusion_matrix(confusion_matrix, class_names, figsize = (10,7), fontsize=18):\n",
    "    \"\"\"Prints a confusion matrix, as returned by sklearn.metrics.confusion_matrix, as a heatmap.\n",
    "    \n",
    "    Arguments\n",
    "    ---------\n",
    "    confusion_matrix: numpy.ndarray\n",
    "        The numpy.ndarray object returned from a call to sklearn.metrics.confusion_matrix. \n",
    "        Similarly constructed ndarrays can also be used.\n",
    "    class_names: list\n",
    "        An ordered list of class names, in the order they index the given confusion matrix.\n",
    "    figsize: tuple\n",
    "        A 2-long tuple, the first value determining the horizontal size of the ouputted figure,\n",
    "        the second determining the vertical size. Defaults to (10,7).\n",
    "    fontsize: int\n",
    "        Font size for axes labels. Defaults to 14.\n",
    "        \n",
    "    Returns\n",
    "    -------\n",
    "    matplotlib.figure.Figure\n",
    "        The resulting confusion matrix figure\n",
    "    \"\"\"\n",
    "    df_cm = pd.DataFrame(\n",
    "        confusion_matrix, index=class_names, columns=class_names, \n",
    "    )\n",
    "    fig = plt.figure(figsize=figsize)\n",
    "    try:\n",
    "        heatmap = sns.heatmap(df_cm, annot=True, fmt=\"d\")\n",
    "    except ValueError:\n",
    "        raise ValueError(\"Confusion matrix values must be integers.\")\n",
    "    heatmap.yaxis.set_ticklabels(heatmap.yaxis.get_ticklabels(), rotation=0, ha='right', fontsize=fontsize)\n",
    "    heatmap.xaxis.set_ticklabels(heatmap.xaxis.get_ticklabels(), rotation=45, ha='right', fontsize=fontsize)\n",
    "    plt.ylabel('True label')\n",
    "    plt.xlabel('Predicted label')\n",
    "    return fig"
   ]
  },
  {
   "cell_type": "markdown",
   "metadata": {},
   "source": [
    "We can load in the original X dataframe, the binarized y target vector, and then all of the dataframes that were cleaned up and dummified in notebook 2."
   ]
  },
  {
   "cell_type": "code",
   "execution_count": 5,
   "metadata": {},
   "outputs": [],
   "source": [
    "with open('data/full_X_y_df.pkl', 'rb') as picklefile:\n",
    "    [X_orig, y] = pickle.load(picklefile)\n",
    "\n",
    "with open(\"pkls/dem_hosp_dx_proc_orig_X_dfs.pkl\", \"rb\") as picklefile:\n",
    "    [X_demographic_predictors_dummified, X_hospital_predictors_df, X_diagnoses_df, X_procedures_df, X] = pickle.load(picklefile)"
   ]
  },
  {
   "cell_type": "code",
   "execution_count": 6,
   "metadata": {},
   "outputs": [],
   "source": [
    "X_poa_diags = X_diagnoses_df.filter(regex=r'Y', axis=1)\n",
    "X_not_poa_diags = X_diagnoses_df.filter(regex=r'N', axis=1)"
   ]
  },
  {
   "cell_type": "code",
   "execution_count": 7,
   "metadata": {},
   "outputs": [],
   "source": [
    "# Let's join all of the dataframes on the index, which is the same for all of them since the row index is the\n",
    "# record number of the discharge.\n",
    "\n",
    "X_clean_dummified_full = X_demographic_predictors_dummified.merge(X_hospital_predictors_df, left_index=True, right_index=True)\n",
    "X_clean_dummified_full = X_clean_dummified_full.merge(X_diagnoses_df, left_index=True, right_index=True)\n",
    "X_clean_dummified_full = X_clean_dummified_full.merge(X_procedures_df, left_index=True, right_index=True)"
   ]
  },
  {
   "cell_type": "code",
   "execution_count": 8,
   "metadata": {},
   "outputs": [
    {
     "name": "stdout",
     "output_type": "stream",
     "text": [
      "(12704, 135)\n"
     ]
    }
   ],
   "source": [
    "print(X_clean_dummified_full.shape)"
   ]
  },
  {
   "cell_type": "markdown",
   "metadata": {},
   "source": [
    "We now perform a gridsearch using different models with different parameters to find the best estimator on the full cleaned & dummified dataframe.\n",
    "\n",
    "The notebook that goes over part of this is kiwi_detector_code from 7/27/18. But the full example of gridsearchcv with multiple parameter grids was covered in a pair programming notebook: https://github.com/thisismetis/sf18_ds11/blob/master/class_lectures/week04-mcnulty1/05-trees_forests/pair_problem_solution.ipynb"
   ]
  },
  {
   "cell_type": "markdown",
   "metadata": {},
   "source": [
    "    chi2_selector = SelectKBest(chi2, k=<insert you num_of_vars>)\n",
    "    chi2_selector.fit_transform(<your input variables>, <your predictor variables> )\n",
    "    chi2_selector.pvalues_\n",
    "zip this with your variable names to see the pvals for each"
   ]
  },
  {
   "cell_type": "markdown",
   "metadata": {},
   "source": [
    "There are a lot of different classifier algorithms that we could try. Let's try the following:\n",
    "* logistic regression\n",
    "* SVM\n",
    "* Naive Bayes\n",
    "* Decision Tree\n",
    "* Random Forest\n",
    "\n",
    "After that:\n",
    "* PCA for dimensionality reduction -> then try either KNN or logistic regression on the dataset with the reduced dimensions.\n",
    "\n",
    "After that:\n",
    "* See if you can figure out H2O.ai, and if so see if their implementations of these algorithms yields different results (particularly random forests, since it sounds like they treat categorical variables differently)"
   ]
  },
  {
   "cell_type": "code",
   "execution_count": 97,
   "metadata": {},
   "outputs": [],
   "source": []
  },
  {
   "cell_type": "code",
   "execution_count": 98,
   "metadata": {},
   "outputs": [],
   "source": [
    "# First, let's split our data set into a training set and a final test set.\n",
    "\n",
    "X_train, X_test, y_train, y_test = train_test_split(X_clean_dummified_full, y, test_size=0.2, stratify=y)"
   ]
  },
  {
   "cell_type": "code",
   "execution_count": 100,
   "metadata": {},
   "outputs": [
    {
     "name": "stderr",
     "output_type": "stream",
     "text": [
      "/Users/joycelee/anaconda3/lib/python3.6/site-packages/pandas/core/indexing.py:543: SettingWithCopyWarning: \n",
      "A value is trying to be set on a copy of a slice from a DataFrame.\n",
      "Try using .loc[row_indexer,col_indexer] = value instead\n",
      "\n",
      "See the caveats in the documentation: http://pandas.pydata.org/pandas-docs/stable/indexing.html#indexing-view-versus-copy\n",
      "  self.obj[item] = s\n"
     ]
    }
   ],
   "source": [
    "# The only two variables that are continuous in all of X are patient age (which is actually ordinal, since ages\n",
    "# are binned into groups, which aren't actually evenly spaced; however I don't think it will have a huge influence\n",
    "# on the accuracy of the model) and length of stay, which actually is continuous.\n",
    "\n",
    "# All other variables are either binary/boolean, or are dummy variables that are 0 or 1. Therefore the only two\n",
    "# columns that will get scaled are patient age and length of stay.\n",
    "\n",
    "ssX = StandardScaler()\n",
    "\n",
    "X_train_to_scale = X_train[['pat_age', 'length_of_stay']].copy()\n",
    "X_train_scaled = ssX.fit_transform(X_train_to_scale)\n",
    "\n",
    "X_test_to_scale = X_test[['pat_age', 'length_of_stay']].copy()\n",
    "X_test_scaled = ssX.transform(X_test_to_scale)\n",
    "\n",
    "X_train.loc[:, 'pat_age'] = X_train_scaled[:, 0]\n",
    "X_train.loc[:, 'length_of_stay'] = X_train_scaled[:, 1]\n",
    "X_test.loc[:, 'pat_age'] = X_test_scaled[:, 0]\n",
    "X_test.loc[:, 'length_of_stay'] = X_test_scaled[:, 1]"
   ]
  },
  {
   "cell_type": "code",
   "execution_count": 99,
   "metadata": {},
   "outputs": [],
   "source": [
    "with open(\"pkls/X_train_test_y_train_test.pkl\", \"wb\") as picklefile:\n",
    "    pickle.dump([X_train, X_test, y_train, y_test], picklefile)"
   ]
  },
  {
   "cell_type": "code",
   "execution_count": 102,
   "metadata": {},
   "outputs": [
    {
     "data": {
      "text/plain": [
       "count    2541.000000\n",
       "mean       -0.027286\n",
       "std         0.994323\n",
       "min        -4.090852\n",
       "25%        -0.373292\n",
       "50%         0.157788\n",
       "75%         0.688868\n",
       "max         1.485488\n",
       "Name: pat_age, dtype: float64"
      ]
     },
     "execution_count": 102,
     "metadata": {},
     "output_type": "execute_result"
    }
   ],
   "source": [
    "X_test['pat_age'].describe()"
   ]
  },
  {
   "cell_type": "code",
   "execution_count": 103,
   "metadata": {},
   "outputs": [
    {
     "data": {
      "text/plain": [
       "count    2541.000000\n",
       "mean       -0.001711\n",
       "std         0.975504\n",
       "min        -0.568674\n",
       "25%        -0.568674\n",
       "50%        -0.291785\n",
       "75%         0.192771\n",
       "max        16.044658\n",
       "Name: length_of_stay, dtype: float64"
      ]
     },
     "execution_count": 103,
     "metadata": {},
     "output_type": "execute_result"
    }
   ],
   "source": [
    "X_test['length_of_stay'].describe()"
   ]
  },
  {
   "cell_type": "markdown",
   "metadata": {},
   "source": [
    "## GridsearchCV\n",
    "\n",
    "We'll use gridsearchCV in order to compare the accuracy of different models, and also to use different metrics to score our model. Running KNN and SVC took too long to run, and also it makes no sense to run KNN with 135 predictors."
   ]
  },
  {
   "cell_type": "code",
   "execution_count": 107,
   "metadata": {},
   "outputs": [],
   "source": [
    "from sklearn.neighbors import KNeighborsClassifier as KNN\n",
    "from sklearn.linear_model import LogisticRegression\n",
    "from sklearn.svm import SVC\n",
    "from sklearn.tree import DecisionTreeClassifier\n",
    "from sklearn.ensemble import RandomForestClassifier\n",
    "\n",
    "from sklearn.model_selection import GridSearchCV"
   ]
  },
  {
   "cell_type": "code",
   "execution_count": 115,
   "metadata": {},
   "outputs": [
    {
     "name": "stdout",
     "output_type": "stream",
     "text": [
      "Doing grid search for logistic.\n",
      "logistic: best score: 0.796221588113746\n",
      "Doing grid search for tree.\n",
      "tree: best score: 0.7980911148282988\n",
      "Doing grid search for forest.\n",
      "forest: best score: 0.7735904752533701\n"
     ]
    }
   ],
   "source": [
    "models = [\n",
    "          ('logistic', LogisticRegression),\n",
    "          ('tree', DecisionTreeClassifier),\n",
    "          ('forest', RandomForestClassifier)\n",
    "         ]\n",
    "\n",
    "param_choices = [\n",
    "    {\n",
    "        'C': np.logspace(-3,6, 12),\n",
    "        'penalty': ['l1', 'l2']\n",
    "    },\n",
    "    {\n",
    "        'max_depth': [1,2,3,4,5],\n",
    "        'min_samples_leaf': [3,6,10]\n",
    "    },\n",
    "    {\n",
    "        'n_estimators': [50, 100, 200],\n",
    "        'max_depth': [1,2,3,4,5],\n",
    "        'min_samples_leaf': [3,6,10]\n",
    "    }\n",
    "]\n",
    "\n",
    "grids = {}\n",
    "for model_info, params in zip(models, param_choices):\n",
    "    name, model = model_info\n",
    "    print(\"Doing grid search for {}.\".format(name))\n",
    "    grid = GridSearchCV(model(), params)\n",
    "    grid.fit(X_train, y_train)\n",
    "    s = f\"{name}: best score: {grid.best_score_}\"\n",
    "    print(s)\n",
    "    grids[name] = grid"
   ]
  },
  {
   "cell_type": "code",
   "execution_count": 116,
   "metadata": {},
   "outputs": [],
   "source": [
    "with open(\"pkls/logr_tree_forest_gridsearch.pkl\", \"wb\") as picklefile:\n",
    "    pickle.dump(grids, picklefile)"
   ]
  },
  {
   "cell_type": "code",
   "execution_count": 118,
   "metadata": {},
   "outputs": [
    {
     "data": {
      "text/plain": [
       "GridSearchCV(cv=5, error_score='raise',\n",
       "       estimator=SVC(C=1.0, cache_size=200, class_weight=None, coef0=0.0,\n",
       "  decision_function_shape='ovr', degree=3, gamma='auto', kernel='rbf',\n",
       "  max_iter=-1, probability=False, random_state=None, shrinking=True,\n",
       "  tol=0.001, verbose=False),\n",
       "       fit_params=None, iid=True, n_jobs=-1,\n",
       "       param_grid={'C': [0.1, 1.0, 10], 'gamma': [0.01, 0.1, 1], 'probability': [True]},\n",
       "       pre_dispatch='2*n_jobs', refit=True, return_train_score='warn',\n",
       "       scoring=None, verbose=0)"
      ]
     },
     "execution_count": 118,
     "metadata": {},
     "output_type": "execute_result"
    }
   ],
   "source": [
    "svc_parameters = {'C': [0.1, 1.0, 10], 'gamma': [0.01, 0.1, 1] , 'probability': [True]}\n",
    "svc = SVC()\n",
    "grid = GridSearchCV(svc, cv=5, n_jobs=-1, param_grid=svc_parameters)\n",
    "grid.fit(X_train, y_train)"
   ]
  },
  {
   "cell_type": "code",
   "execution_count": 119,
   "metadata": {},
   "outputs": [],
   "source": [
    "y_preds = grid.predict(X_test)"
   ]
  },
  {
   "cell_type": "code",
   "execution_count": 120,
   "metadata": {},
   "outputs": [
    {
     "data": {
      "text/plain": [
       "SVC(C=1.0, cache_size=200, class_weight=None, coef0=0.0,\n",
       "  decision_function_shape='ovr', degree=3, gamma=0.1, kernel='rbf',\n",
       "  max_iter=-1, probability=True, random_state=None, shrinking=True,\n",
       "  tol=0.001, verbose=False)"
      ]
     },
     "execution_count": 120,
     "metadata": {},
     "output_type": "execute_result"
    }
   ],
   "source": [
    "grid.best_estimator_"
   ]
  },
  {
   "cell_type": "code",
   "execution_count": 121,
   "metadata": {},
   "outputs": [
    {
     "data": {
      "text/plain": [
       "0.9311226999901604"
      ]
     },
     "execution_count": 121,
     "metadata": {},
     "output_type": "execute_result"
    }
   ],
   "source": [
    "grid.score(X_train, y_train)"
   ]
  },
  {
   "cell_type": "code",
   "execution_count": 122,
   "metadata": {},
   "outputs": [
    {
     "data": {
      "text/plain": [
       "0.8276269185360094"
      ]
     },
     "execution_count": 122,
     "metadata": {},
     "output_type": "execute_result"
    }
   ],
   "source": [
    "grid.score(X_test, y_test)"
   ]
  },
  {
   "cell_type": "code",
   "execution_count": 128,
   "metadata": {},
   "outputs": [],
   "source": [
    "grids['svc'] = grid"
   ]
  },
  {
   "cell_type": "code",
   "execution_count": 129,
   "metadata": {},
   "outputs": [],
   "source": [
    "with open(\"pkls/logr_tree_forest_svc_gridsearch.pkl\", \"wb\") as picklefile:\n",
    "    pickle.dump(grids, picklefile)"
   ]
  },
  {
   "cell_type": "code",
   "execution_count": 137,
   "metadata": {},
   "outputs": [
    {
     "data": {
      "text/plain": [
       "{'logistic': GridSearchCV(cv=None, error_score='raise',\n",
       "        estimator=LogisticRegression(C=1.0, class_weight=None, dual=False, fit_intercept=True,\n",
       "           intercept_scaling=1, max_iter=100, multi_class='ovr', n_jobs=1,\n",
       "           penalty='l2', random_state=None, solver='liblinear', tol=0.0001,\n",
       "           verbose=0, warm_start=False),\n",
       "        fit_params=None, iid=True, n_jobs=1,\n",
       "        param_grid={'C': array([1.00000e-03, 6.57933e-03, 4.32876e-02, 2.84804e-01, 1.87382e+00,\n",
       "        1.23285e+01, 8.11131e+01, 5.33670e+02, 3.51119e+03, 2.31013e+04,\n",
       "        1.51991e+05, 1.00000e+06]), 'penalty': ['l1', 'l2']},\n",
       "        pre_dispatch='2*n_jobs', refit=True, return_train_score='warn',\n",
       "        scoring=None, verbose=0),\n",
       " 'tree': GridSearchCV(cv=None, error_score='raise',\n",
       "        estimator=DecisionTreeClassifier(class_weight=None, criterion='gini', max_depth=None,\n",
       "             max_features=None, max_leaf_nodes=None,\n",
       "             min_impurity_decrease=0.0, min_impurity_split=None,\n",
       "             min_samples_leaf=1, min_samples_split=2,\n",
       "             min_weight_fraction_leaf=0.0, presort=False, random_state=None,\n",
       "             splitter='best'),\n",
       "        fit_params=None, iid=True, n_jobs=1,\n",
       "        param_grid={'max_depth': [1, 2, 3, 4, 5], 'min_samples_leaf': [3, 6, 10]},\n",
       "        pre_dispatch='2*n_jobs', refit=True, return_train_score='warn',\n",
       "        scoring=None, verbose=0),\n",
       " 'forest': GridSearchCV(cv=None, error_score='raise',\n",
       "        estimator=RandomForestClassifier(bootstrap=True, class_weight=None, criterion='gini',\n",
       "             max_depth=None, max_features='auto', max_leaf_nodes=None,\n",
       "             min_impurity_decrease=0.0, min_impurity_split=None,\n",
       "             min_samples_leaf=1, min_samples_split=2,\n",
       "             min_weight_fraction_leaf=0.0, n_estimators=10, n_jobs=1,\n",
       "             oob_score=False, random_state=None, verbose=0,\n",
       "             warm_start=False),\n",
       "        fit_params=None, iid=True, n_jobs=1,\n",
       "        param_grid={'n_estimators': [50, 100, 200], 'max_depth': [1, 2, 3, 4, 5], 'min_samples_leaf': [3, 6, 10]},\n",
       "        pre_dispatch='2*n_jobs', refit=True, return_train_score='warn',\n",
       "        scoring=None, verbose=0),\n",
       " 'svc': GridSearchCV(cv=5, error_score='raise',\n",
       "        estimator=SVC(C=1.0, cache_size=200, class_weight=None, coef0=0.0,\n",
       "   decision_function_shape='ovr', degree=3, gamma='auto', kernel='rbf',\n",
       "   max_iter=-1, probability=False, random_state=None, shrinking=True,\n",
       "   tol=0.001, verbose=False),\n",
       "        fit_params=None, iid=True, n_jobs=-1,\n",
       "        param_grid={'C': [0.1, 1.0, 10], 'gamma': [0.01, 0.1, 1], 'probability': [True]},\n",
       "        pre_dispatch='2*n_jobs', refit=True, return_train_score='warn',\n",
       "        scoring=None, verbose=0)}"
      ]
     },
     "execution_count": 137,
     "metadata": {},
     "output_type": "execute_result"
    }
   ],
   "source": [
    "grids"
   ]
  },
  {
   "cell_type": "code",
   "execution_count": 138,
   "metadata": {},
   "outputs": [
    {
     "name": "stdout",
     "output_type": "stream",
     "text": [
      "The accuracy for logistic on the training set is 0.8060612024008659\n",
      "             precision    recall  f1-score   support\n",
      "\n",
      "      alive       0.76      0.56      0.64      3177\n",
      "    expired       0.82      0.92      0.87      6986\n",
      "\n",
      "avg / total       0.80      0.81      0.80     10163\n",
      "\n",
      "The accuracy for logistic on the test set is 0.8024399842581661\n",
      "             precision    recall  f1-score   support\n",
      "\n",
      "      alive       0.75      0.55      0.64       794\n",
      "    expired       0.82      0.92      0.86      1747\n",
      "\n",
      "avg / total       0.80      0.80      0.79      2541\n",
      "\n",
      "_____________\n",
      "\n",
      "The accuracy for tree on the training set is 0.795237626685034\n",
      "             precision    recall  f1-score   support\n",
      "\n",
      "      alive       0.70      0.60      0.65      3177\n",
      "    expired       0.83      0.89      0.86      6986\n",
      "\n",
      "avg / total       0.79      0.80      0.79     10163\n",
      "\n",
      "The accuracy for tree on the test set is 0.7926013380558835\n",
      "             precision    recall  f1-score   support\n",
      "\n",
      "      alive       0.69      0.61      0.65       794\n",
      "    expired       0.83      0.87      0.85      1747\n",
      "\n",
      "avg / total       0.79      0.79      0.79      2541\n",
      "\n",
      "_____________\n",
      "\n",
      "The accuracy for forest on the training set is 0.7786086785398012\n",
      "             precision    recall  f1-score   support\n",
      "\n",
      "      alive       0.82      0.38      0.52      3177\n",
      "    expired       0.77      0.96      0.86      6986\n",
      "\n",
      "avg / total       0.79      0.78      0.75     10163\n",
      "\n",
      "The accuracy for forest on the test set is 0.7835497835497836\n",
      "             precision    recall  f1-score   support\n",
      "\n",
      "      alive       0.82      0.40      0.53       794\n",
      "    expired       0.78      0.96      0.86      1747\n",
      "\n",
      "avg / total       0.79      0.78      0.76      2541\n",
      "\n",
      "_____________\n",
      "\n",
      "The accuracy for svc on the training set is 0.9311226999901604\n",
      "             precision    recall  f1-score   support\n",
      "\n",
      "      alive       0.93      0.84      0.88      3177\n",
      "    expired       0.93      0.97      0.95      6986\n",
      "\n",
      "avg / total       0.93      0.93      0.93     10163\n",
      "\n",
      "The accuracy for svc on the test set is 0.8276269185360094\n",
      "             precision    recall  f1-score   support\n",
      "\n",
      "      alive       0.76      0.66      0.71       794\n",
      "    expired       0.86      0.90      0.88      1747\n",
      "\n",
      "avg / total       0.82      0.83      0.82      2541\n",
      "\n",
      "_____________\n",
      "\n"
     ]
    }
   ],
   "source": [
    "for name, model in grids.items():\n",
    "    model.best_estimator_.fit(X_train, y_train)\n",
    "    y_train_pred = model.best_estimator_.predict(X_train)\n",
    "    acc_score = accuracy_score(y_train, y_train_pred)\n",
    "    print(\"The accuracy for {} on the training set is {}\".format(name, str(acc_score)))\n",
    "    print(classification_report(y_train, y_train_pred))\n",
    "    \n",
    "    y_test_pred = model.best_estimator_.predict(X_test)\n",
    "    acc_score = accuracy_score(y_test, y_test_pred)\n",
    "    print(\"The accuracy for {} on the test set is {}\".format(name, str(acc_score)))\n",
    "    print(classification_report(y_test, y_test_pred))\n",
    "    print(\"_____________\\n\")"
   ]
  },
  {
   "cell_type": "code",
   "execution_count": 198,
   "metadata": {},
   "outputs": [],
   "source": [
    "roc_plotting_stuff = []\n",
    "for name, model in grids.items():\n",
    "    model.best_estimator_.fit(X_train, y_train)\n",
    "    preds = model.best_estimator_.predict_proba(X_test)\n",
    "    fpr, tpr, _ = roc_curve(y_test, preds[:,1], pos_label='expired')\n",
    "    auc_score = auc(fpr, tpr)\n",
    "    roc_plotting_stuff.append((name, tpr, fpr, auc_score))"
   ]
  },
  {
   "cell_type": "code",
   "execution_count": 199,
   "metadata": {},
   "outputs": [
    {
     "data": {
      "image/png": "[encoded data removed]",
      "text/plain": [
       "<Figure size 1500x1000 with 1 Axes>"
      ]
     },
     "metadata": {},
     "output_type": "display_data"
    }
   ],
   "source": [
    "plt.figure(dpi=250)\n",
    "for name, tpr, fpr, auc_score in roc_plotting_stuff:\n",
    "    plt.plot(fpr, tpr, label=name+' (auc: %.5f)'%auc_score)\n",
    "plt.legend(loc='lower right', fontsize=7)\n",
    "plt.plot([0, 1], [0, 1], color='k', linestyle='--');\n",
    "plt.xlabel(\"False Positive Rate\")\n",
    "plt.ylabel(\"True Positive Rate\")\n",
    "plt.title(\"Comparing ROC Curves\");"
   ]
  },
  {
   "cell_type": "code",
   "execution_count": 155,
   "metadata": {},
   "outputs": [],
   "source": [
    "from sklearn.naive_bayes import GaussianNB\n",
    "from sklearn.datasets import load_iris"
   ]
  },
  {
   "cell_type": "code",
   "execution_count": 156,
   "metadata": {},
   "outputs": [],
   "source": [
    "nb = GaussianNB()\n",
    "nb.fit(X_train, y_train)\n",
    "nb.score(X_train, y_train)\n",
    "y_nb_test_pred = nb.predict(X_test)"
   ]
  },
  {
   "cell_type": "code",
   "execution_count": 157,
   "metadata": {},
   "outputs": [
    {
     "data": {
      "text/plain": [
       "array([[ 770,   24],\n",
       "       [1591,  156]])"
      ]
     },
     "execution_count": 157,
     "metadata": {},
     "output_type": "execute_result"
    }
   ],
   "source": [
    "accuracy_score(y_test, y_nb_test_pred)\n",
    "confusion_matrix(y_test, y_nb_test_pred)"
   ]
  },
  {
   "cell_type": "markdown",
   "metadata": {},
   "source": [
    "Why doesn't naive bayes work? Why is it actually doing worse than the dummy classifier?"
   ]
  },
  {
   "cell_type": "code",
   "execution_count": 158,
   "metadata": {},
   "outputs": [],
   "source": [
    "# Let's try multi-level perceptron and also perceptron and see how they do.\n",
    "\n",
    "from sklearn.neural_network import MLPClassifier"
   ]
  },
  {
   "cell_type": "code",
   "execution_count": 165,
   "metadata": {},
   "outputs": [
    {
     "data": {
      "text/plain": [
       "MLPClassifier(activation='relu', alpha=0.0001, batch_size='auto', beta_1=0.9,\n",
       "       beta_2=0.999, early_stopping=False, epsilon=1e-08,\n",
       "       hidden_layer_sizes=(100,), learning_rate='constant',\n",
       "       learning_rate_init=0.001, max_iter=1000, momentum=0.9,\n",
       "       nesterovs_momentum=True, power_t=0.5, random_state=None,\n",
       "       shuffle=True, solver='adam', tol=0.0001, validation_fraction=0.1,\n",
       "       verbose=False, warm_start=False)"
      ]
     },
     "execution_count": 165,
     "metadata": {},
     "output_type": "execute_result"
    }
   ],
   "source": [
    "mlpc = MLPClassifier(max_iter=1000)\n",
    "\n",
    "mlpc.fit(X_train, y_train)"
   ]
  },
  {
   "cell_type": "code",
   "execution_count": 166,
   "metadata": {},
   "outputs": [
    {
     "data": {
      "text/plain": [
       "0.9997048115713864"
      ]
     },
     "execution_count": 166,
     "metadata": {},
     "output_type": "execute_result"
    }
   ],
   "source": [
    "mlpc.score(X_train, y_train)"
   ]
  },
  {
   "cell_type": "code",
   "execution_count": 201,
   "metadata": {},
   "outputs": [],
   "source": [
    "y_mlpc_test_pred = mlpc.predict(X_test)"
   ]
  },
  {
   "cell_type": "code",
   "execution_count": 233,
   "metadata": {},
   "outputs": [
    {
     "name": "stdout",
     "output_type": "stream",
     "text": [
      "0.8083431719795356\n",
      "[[ 541  253]\n",
      " [ 234 1513]]\n",
      "             precision    recall  f1-score   support\n",
      "\n",
      "      alive       0.70      0.68      0.69       794\n",
      "    expired       0.86      0.87      0.86      1747\n",
      "\n",
      "avg / total       0.81      0.81      0.81      2541\n",
      "\n"
     ]
    }
   ],
   "source": [
    "print(accuracy_score(y_test, y_mlpc_test_pred))\n",
    "print(confusion_matrix(y_test, y_mlpc_test_pred))\n",
    "print(classification_report(y_test, y_mlpc_test_pred))"
   ]
  },
  {
   "cell_type": "code",
   "execution_count": 238,
   "metadata": {},
   "outputs": [],
   "source": [
    "y_test_num = [int(x=='expired') for x in y_test]\n",
    "y_mlpc_test_pred_num = [int(x=='expired') for x in y_mlpc_test_pred]"
   ]
  },
  {
   "cell_type": "code",
   "execution_count": 240,
   "metadata": {},
   "outputs": [],
   "source": [
    "fpr, tpr, _ = roc_curve(y_test_num, y_mlpc_test_pred_num)\n",
    "auc_score = auc(fpr, tpr)"
   ]
  },
  {
   "cell_type": "code",
   "execution_count": 241,
   "metadata": {},
   "outputs": [
    {
     "data": {
      "text/plain": [
       "0.7737081488380945"
      ]
     },
     "execution_count": 241,
     "metadata": {},
     "output_type": "execute_result"
    }
   ],
   "source": [
    "auc_score"
   ]
  },
  {
   "cell_type": "code",
   "execution_count": 242,
   "metadata": {},
   "outputs": [],
   "source": [
    "roc_plotting_stuff.append(('mlpc', tpr, fpr, auc_score))"
   ]
  },
  {
   "cell_type": "code",
   "execution_count": 244,
   "metadata": {},
   "outputs": [
    {
     "data": {
      "image/png": "[encoded data removed]",
      "text/plain": [
       "<Figure size 1500x1000 with 1 Axes>"
      ]
     },
     "metadata": {},
     "output_type": "display_data"
    }
   ],
   "source": [
    "plt.figure(dpi=250)\n",
    "for name, tpr, fpr, auc_score in roc_plotting_stuff:\n",
    "    plt.plot(fpr, tpr, label=name+' (auc: %.5f)'%auc_score)\n",
    "plt.legend(loc='lower right', fontsize=7)\n",
    "plt.plot([0, 1], [0, 1], color='k', linestyle='--');\n",
    "plt.xlabel(\"False Positive Rate\")\n",
    "plt.ylabel(\"True Positive Rate\")\n",
    "plt.title(\"Comparing ROC Curves\");\n",
    "\n",
    "fig = plt.gcf()\n",
    "fig.savefig('ROC_curves.png')"
   ]
  },
  {
   "cell_type": "markdown",
   "metadata": {},
   "source": [
    "The next things to tackle here are to 1) try PCA to reduce dimensionality, and then run all these estimators on the pca transformed data points, and compare accuracy. 2) Scramble each column and see how much the accuracy drops for each column (or how much the recall drops, or how much the f1 score drops), and use this to rank importance. 3) Pick the top 50 or so features that have the lowest p values, and re-run the model on that, and see how it works."
   ]
  },
  {
   "cell_type": "code",
   "execution_count": 245,
   "metadata": {},
   "outputs": [],
   "source": [
    "from sklearn.decomposition import PCA"
   ]
  },
  {
   "cell_type": "code",
   "execution_count": 246,
   "metadata": {},
   "outputs": [],
   "source": [
    "pca = PCA(n_components=10)\n",
    "X_principal_components = pca.fit_transform(X_train)\n",
    "X_test_principal_components = pca.transform(X_test)"
   ]
  },
  {
   "cell_type": "code",
   "execution_count": 247,
   "metadata": {},
   "outputs": [],
   "source": [
    "col_names = ['PCA ' + str(i) for i in range(1, 11)]"
   ]
  },
  {
   "cell_type": "code",
   "execution_count": 248,
   "metadata": {},
   "outputs": [],
   "source": [
    "X_principal_components_df = pd.DataFrame(X_principal_components, columns=col_names)"
   ]
  },
  {
   "cell_type": "code",
   "execution_count": 249,
   "metadata": {},
   "outputs": [],
   "source": [
    "X_test_principal_components_df = pd.DataFrame(X_test_principal_components, columns=col_names)"
   ]
  },
  {
   "cell_type": "code",
   "execution_count": 250,
   "metadata": {},
   "outputs": [
    {
     "data": {
      "text/plain": [
       "(10163, 10)"
      ]
     },
     "execution_count": 250,
     "metadata": {},
     "output_type": "execute_result"
    }
   ],
   "source": [
    "X_principal_components_df.shape"
   ]
  },
  {
   "cell_type": "code",
   "execution_count": 251,
   "metadata": {},
   "outputs": [
    {
     "name": "stdout",
     "output_type": "stream",
     "text": [
      "[0.10073197 0.07764456 0.04149358 0.03754354 0.0370017  0.033278\n",
      " 0.03125174 0.03015386 0.02605224 0.02334497]\n"
     ]
    },
    {
     "data": {
      "text/plain": [
       "array([0.10073197, 0.17837653, 0.2198701 , 0.25741364, 0.29441535,\n",
       "       0.32769335, 0.35894509, 0.38909896, 0.4151512 , 0.43849617])"
      ]
     },
     "execution_count": 251,
     "metadata": {},
     "output_type": "execute_result"
    }
   ],
   "source": [
    "print(pca.explained_variance_ratio_)\n",
    "np.cumsum(pca.explained_variance_ratio_)"
   ]
  },
  {
   "cell_type": "code",
   "execution_count": 252,
   "metadata": {},
   "outputs": [
    {
     "name": "stdout",
     "output_type": "stream",
     "text": [
      "Doing grid search for svm.\n",
      "svm: best score: 0.7823477319689068\n",
      "Doing grid search for logistic.\n",
      "logistic: best score: 0.7704417986814917\n",
      "Doing grid search for tree.\n",
      "tree: best score: 0.7361015448194431\n",
      "Doing grid search for forest.\n",
      "forest: best score: 0.751352946964479\n"
     ]
    }
   ],
   "source": [
    "models = [('svm', SVC),\n",
    "          ('logistic', LogisticRegression),\n",
    "          ('tree', DecisionTreeClassifier),\n",
    "          ('forest', RandomForestClassifier)\n",
    "         ]\n",
    "\n",
    "param_choices = [\n",
    "    {\n",
    "        'C': [0.1, 1.0, 10],\n",
    "        'gamma': [0.01, 0.1, 1] ,\n",
    "        'probability': [True]\n",
    "    },\n",
    "    {\n",
    "        'C': np.logspace(-3,6, 12),\n",
    "        'penalty': ['l1', 'l2']\n",
    "    },\n",
    "    {\n",
    "        'max_depth': [1,2,3,4,5],\n",
    "        'min_samples_leaf': [3,6,10]\n",
    "    },\n",
    "    {\n",
    "        'n_estimators': [50, 100, 200],\n",
    "        'max_depth': [1,2,3,4,5],\n",
    "        'min_samples_leaf': [3,6,10]\n",
    "    }\n",
    "]\n",
    "\n",
    "grids_pca = {}\n",
    "for model_info, params in zip(models, param_choices):\n",
    "    name, model = model_info\n",
    "    print(\"Doing grid search for {}.\".format(name))\n",
    "    grid = GridSearchCV(model(), params)\n",
    "    grid.fit(X_principal_components_df, y_train)\n",
    "    s = f\"{name}: best score: {grid.best_score_}\"\n",
    "    print(s)\n",
    "    grids_pca[name] = grid"
   ]
  },
  {
   "cell_type": "code",
   "execution_count": 189,
   "metadata": {},
   "outputs": [],
   "source": [
    "y_pca_logr_test_pred = grids_pca['logistic'].best_estimator_.predict(X_test_principal_components_df)"
   ]
  },
  {
   "cell_type": "code",
   "execution_count": 190,
   "metadata": {},
   "outputs": [
    {
     "name": "stdout",
     "output_type": "stream",
     "text": [
      "0.7717434081070444\n",
      "[[ 363  431]\n",
      " [ 149 1598]]\n",
      "             precision    recall  f1-score   support\n",
      "\n",
      "      alive       0.71      0.46      0.56       794\n",
      "    expired       0.79      0.91      0.85      1747\n",
      "\n",
      "avg / total       0.76      0.77      0.76      2541\n",
      "\n"
     ]
    }
   ],
   "source": [
    "print(accuracy_score(y_test, y_pca_logr_test_pred))\n",
    "print(confusion_matrix(y_test, y_pca_logr_test_pred))\n",
    "print(classification_report(y_test, y_pca_logr_test_pred))"
   ]
  },
  {
   "cell_type": "markdown",
   "metadata": {},
   "source": [
    "Now, let's go ahead and scramble each column, and then see how much the auc_score drops."
   ]
  },
  {
   "cell_type": "code",
   "execution_count": null,
   "metadata": {},
   "outputs": [],
   "source": []
  },
  {
   "cell_type": "code",
   "execution_count": null,
   "metadata": {},
   "outputs": [],
   "source": []
  },
  {
   "cell_type": "code",
   "execution_count": null,
   "metadata": {},
   "outputs": [],
   "source": []
  },
  {
   "cell_type": "code",
   "execution_count": null,
   "metadata": {},
   "outputs": [],
   "source": []
  },
  {
   "cell_type": "markdown",
   "metadata": {},
   "source": [
    "We'll use gridsearchcv to tune hyperparameters for multiple different classifiers.\n",
    "\n",
    "Once we find the classifier(s) with the best accuracy, then we can plot the ROC curves. We can also assess the relative feature importance by looking at the largest coefficients in logistic regression, and then also by looking at how the accuracy score changes after scrambling each column (and/or scrambling groups of columns)."
   ]
  },
  {
   "cell_type": "markdown",
   "metadata": {},
   "source": [
    "Trying the model search from pair programming on 8/2/18:"
   ]
  },
  {
   "cell_type": "code",
   "execution_count": 55,
   "metadata": {},
   "outputs": [
    {
     "name": "stdout",
     "output_type": "stream",
     "text": [
      "Doing grid search for logistic\n",
      "logistic: best score: 0.8037980911148283\n",
      "Doing grid search for tree\n",
      "tree: best score: 0.787857915969694\n",
      "Doing grid search for forest\n",
      "forest: best score: 0.7751648135393092\n"
     ]
    }
   ],
   "source": [
    "models = [\n",
    "          ('logistic', LogisticRegression),\n",
    "          ('tree', DecisionTreeClassifier),\n",
    "          ('forest', RandomForestClassifier)\n",
    "         ]\n",
    "\n",
    "param_choices = [\n",
    "    {\n",
    "        'C': np.logspace(-3,6, 12),\n",
    "        'penalty': ['l1', 'l2']\n",
    "    },\n",
    "    {\n",
    "        'max_depth': [1,2,3,4,5],\n",
    "        'min_samples_leaf': [3,6,10]\n",
    "    },\n",
    "    {\n",
    "        'n_estimators': [50, 100, 200],\n",
    "        'max_depth': [1,2,3,4,5],\n",
    "        'min_samples_leaf': [3,6,10]\n",
    "    }\n",
    "]\n",
    "\n",
    "grids = {}\n",
    "for model_info, params in zip(models, param_choices):\n",
    "    name, model = model_info\n",
    "    print(\"Doing grid search for {}\".format(name))\n",
    "    grid = GridSearchCV(model(), params)\n",
    "    grid.fit(X_train, y_train)\n",
    "    s = f\"{name}: best score: {grid.best_score_}\"\n",
    "    print(s)\n",
    "    grids[name] = grid"
   ]
  },
  {
   "cell_type": "markdown",
   "metadata": {},
   "source": [
    "Once you get a sense for which model is actually the best out of KNN, logistic, tree, random forest, and SVC, then run that tree through RFECV to see how well it works.\n",
    "\n",
    "Then, also use decision tree and/or random forests to get a ranking of which features are the most important. Compare to see which features are identified as the most important.\n",
    "\n",
    "Then also for the best model identified by gridsearchcv, scramble each feature iteratively and see how the accuracy or f1 score reacts."
   ]
  },
  {
   "cell_type": "code",
   "execution_count": 91,
   "metadata": {},
   "outputs": [],
   "source": [
    "y_logr_test_pred = best_logr.predict(X_test)\n",
    "\n",
    "y_logr_test_probs = best_logr.predict_proba(X_test)"
   ]
  },
  {
   "cell_type": "code",
   "execution_count": 96,
   "metadata": {},
   "outputs": [
    {
     "data": {
      "text/plain": [
       "array([[ 428,  366],\n",
       "       [ 172, 1575]])"
      ]
     },
     "execution_count": 96,
     "metadata": {},
     "output_type": "execute_result"
    }
   ],
   "source": [
    "confusion_matrix(y_test, y_logr_test_pred)"
   ]
  },
  {
   "cell_type": "code",
   "execution_count": 93,
   "metadata": {},
   "outputs": [],
   "source": [
    "fpr, tpr, _ = roc_curve(y_test, y_logr_test_probs[:,1], pos_label='expired')\n",
    "auc_score = auc(fpr, tpr)"
   ]
  },
  {
   "cell_type": "code",
   "execution_count": 95,
   "metadata": {},
   "outputs": [
    {
     "data": {
      "image/png": "[encoded data removed]",
      "text/plain": [
       "<Figure size 432x288 with 1 Axes>"
      ]
     },
     "metadata": {},
     "output_type": "display_data"
    }
   ],
   "source": [
    "plt.plot(fpr, tpr, label='logr (auc: %.5f)'%auc_score)\n",
    "plt.legend()\n",
    "plt.show()"
   ]
  },
  {
   "cell_type": "code",
   "execution_count": 59,
   "metadata": {},
   "outputs": [
    {
     "data": {
      "text/plain": [
       "[('type_of_admission_4', 4.767113662857658),\n",
       " ('first_payment_src_AM', 1.634381497716986),\n",
       " (('3481', 'Y'), 1.379614088538368),\n",
       " (('3481', 'N'), 1.2108213042943021),\n",
       " ('3761', 0.6883732656426947),\n",
       " ('source_of_admission_4', 0.6487854807669411),\n",
       " (('99592', 'N'), 0.6345214125123042),\n",
       " ('9905', 0.5550355458017874),\n",
       " ('first_payment_src_VA', 0.4723903000836486),\n",
       " ('0017', 0.46732909656322286),\n",
       " ('source_of_admission_D', 0.45448901356799953),\n",
       " ('9960', 0.4215735761867743),\n",
       " ('9915', 0.405147829480716),\n",
       " (('2762', 'Y'), 0.40454927805743535),\n",
       " (('78552', 'N'), 0.3885443041243609),\n",
       " ('9907', 0.384695326154005),\n",
       " ('3895', 0.3749084201379404),\n",
       " ('first_payment_src_OF', 0.3666901137779276),\n",
       " ('hospital_teaching', 0.3662114913295492),\n",
       " ('pat_age', 0.3643096415642792),\n",
       " ('hospital_community', 0.3593567507565308),\n",
       " ('0040', 0.35334662704482367),\n",
       " ('source_of_admission_`', 0.3117862545705006),\n",
       " ('9604', 0.303189807046428),\n",
       " ('source_of_admission_6', 0.29235550125131526),\n",
       " (('2762', 'N'), 0.2865094834308654),\n",
       " (('0389', 'Y'), 0.2737506438560699),\n",
       " ('public_health_region_08', 0.26440801110615836),\n",
       " ('3404', 0.24088641114400594),\n",
       " ('first_payment_src_09', 0.23880461270090927),\n",
       " (('99592', 'Y'), 0.21948769031313062),\n",
       " ('public_health_region_05', 0.1909437424228261),\n",
       " (('486', 'Y'), 0.1811505909891862),\n",
       " (('5849', 'Y'), 0.1770405477377027),\n",
       " (('496', 'Y'), 0.17367672594268016),\n",
       " ('3324', 0.16618337362067187),\n",
       " ('first_payment_src_MC', 0.1648451708914185),\n",
       " (('2859', 'Y'), 0.16224813326887166),\n",
       " (('25000', 'Y'), 0.15398878122886003),\n",
       " ('sex_code_M', 0.15073231081618424),\n",
       " ('9390', 0.14887508358912876),\n",
       " ('sex_code_F', 0.1434349956829056),\n",
       " (('5849', 'N'), 0.1291971515982428),\n",
       " (('5845', 'N'), 0.12555689165943915),\n",
       " (('42789', 'N'), 0.12475761154153386),\n",
       " ('3891', 0.12436493012257671),\n",
       " ('type_of_admission_9', 0.11958987628835656),\n",
       " ('first_payment_src_MB', 0.08671958051526801),\n",
       " ('public_health_region_04', 0.08204974641961169),\n",
       " (('0389', 'N'), 0.0671500336425771),\n",
       " ('public_health_region_01', 0.062077951682895476),\n",
       " ('type_of_admission_5', 0.06074355594744271),\n",
       " ('9671', 0.05150076760932803),\n",
       " ('3893', 0.045794941025541484),\n",
       " ('public_health_region_10', 0.043914321788714204),\n",
       " (('78551', 'N'), 0.0007733456922071953),\n",
       " ('sex_code_U', 0.0),\n",
       " ('race_2', 0.0),\n",
       " ('race_`', 0.0),\n",
       " ('ethnicity_`', 0.0),\n",
       " ('public_health_region_09', 0.0),\n",
       " ('first_payment_src_11', 0.0),\n",
       " ('first_payment_src_CH', 0.0),\n",
       " ('first_payment_src_LM', 0.0),\n",
       " ('hiv_drug', 0.0),\n",
       " ('type_of_admission_1', 0.0),\n",
       " ('source_of_admission_5', 0.0),\n",
       " ('source_of_admission_8', 0.0),\n",
       " ('source_of_admission_A', 0.0),\n",
       " ('hospital_CAH', 0.0),\n",
       " (('2449', 'Y'), -0.00303749582266353),\n",
       " ('public_health_region_11', -0.00653700709671369),\n",
       " ('admit_weekday', -0.039018988926459636),\n",
       " ('public_health_region_03', -0.04077629354705827),\n",
       " (('51881', 'Y'), -0.04156310755926195),\n",
       " ('9962', -0.04207362642901252),\n",
       " (('51881', 'N'), -0.0648357115264193),\n",
       " (('42741', 'N'), -0.10187584812447213),\n",
       " ('first_payment_src_MA', -0.1018872675039265),\n",
       " (('4271', 'N'), -0.10903403095385714),\n",
       " ('type_of_admission_2', -0.11157553977114157),\n",
       " ('first_payment_src_WC', -0.11520407273190415),\n",
       " ('ethnicity_1', -0.1152200185559519),\n",
       " ('first_payment_src_12', -0.11607725234956591),\n",
       " (('2760', 'N'), -0.11762143843834387),\n",
       " (('4280', 'Y'), -0.11950578642162953),\n",
       " (('4019', 'Y'), -0.12637467239610117),\n",
       " ('public_health_region_06', -0.1278698212487878),\n",
       " ('source_of_admission_1', -0.13306929213038882),\n",
       " ('public_health_region_07', -0.13777854622693522),\n",
       " ('first_payment_src_ZZ', -0.1378011028292591),\n",
       " ('3897', -0.1385653771773561),\n",
       " ('3607', -0.14331476607313762),\n",
       " ('9672', -0.14375190675093627),\n",
       " (('42731', 'Y'), -0.14844401216744676),\n",
       " ('type_of_admission_3', -0.14848558158965652),\n",
       " (('40390', 'Y'), -0.1546931194448802),\n",
       " ('first_payment_src_CI', -0.1578828377857655),\n",
       " (('41401', 'Y'), -0.16300289075368643),\n",
       " ('first_payment_src_15', -0.1728124437662562),\n",
       " ('ethnicity_2', -0.17621927308099417),\n",
       " ('first_payment_src_HM', -0.17956221749197726),\n",
       " ('race_5', -0.19955861207939504),\n",
       " (('486', 'N'), -0.20314120322320384),\n",
       " (('5856', 'Y'), -0.2159190000825098),\n",
       " (('3051', 'Y'), -0.2253363508894145),\n",
       " ('0045', -0.2296672090764998),\n",
       " ('race_4', -0.23025112981184007),\n",
       " ('first_payment_src_13', -0.23603128911346755),\n",
       " ('race_3', -0.2512631282104481),\n",
       " ('first_payment_src_16', -0.25253461741010447),\n",
       " ('first_payment_src_BL', -0.2526029753373883),\n",
       " ('3961', -0.25823817009668665),\n",
       " ('source_of_admission_9', -0.27880640038658344),\n",
       " ('9904', -0.2852859457816581),\n",
       " ('source_of_admission_2', -0.32237140950154497),\n",
       " ('race_1', -0.36162869917641516),\n",
       " (('2851', 'N'), -0.36659398062593057),\n",
       " ('3995', -0.3673826765761981),\n",
       " (('2724', 'Y'), -0.3676091802942387),\n",
       " ('8856', -0.4262497592525465),\n",
       " ('8872', -0.4315267990572574),\n",
       " (('5070', 'N'), -0.5143535043439941),\n",
       " ('8853', -0.5359698672876596),\n",
       " ('3722', -0.5720816820277133),\n",
       " ('public_health_region_02', -0.6480817609524073),\n",
       " ('source_of_admission_7', -0.687577952204936),\n",
       " ('out_of_hospital_cardiac_arrest', -0.6930192583116261),\n",
       " (('2768', 'N'), -0.703381747359363),\n",
       " (('5180', 'N'), -0.7464499795403179),\n",
       " ('0066', -0.7771799855807722),\n",
       " ('4311', -0.8630732939208081),\n",
       " ('311', -0.9423051601090874),\n",
       " ('length_of_stay', -1.1799640948426269),\n",
       " ('first_payment_src_14', -1.736435803171525)]"
      ]
     },
     "execution_count": 59,
     "metadata": {},
     "output_type": "execute_result"
    }
   ],
   "source": [
    "# Let's look at the sorted features for the best logistic regression model that\n",
    "\n",
    "best_logr = grids['logistic'].best_estimator_\n",
    "feature_logr_coef = list(zip(X_train.columns, best_logr.coef_[0]))\n",
    "\n",
    "sorted(feature_logr_coef, key=lambda x: x[1], reverse=True)"
   ]
  },
  {
   "cell_type": "code",
   "execution_count": 62,
   "metadata": {},
   "outputs": [
    {
     "data": {
      "text/plain": [
       "[('length_of_stay', 0.678160709651732),\n",
       " ('8856', 0.07856821508948077),\n",
       " ('3722', 0.0656294966267731),\n",
       " ('out_of_hospital_cardiac_arrest', 0.06199606594225352),\n",
       " ('9672', 0.02963500156042929),\n",
       " ('311', 0.023387464003623838),\n",
       " (('3481', 'Y'), 0.019623661858194506),\n",
       " ('3893', 0.012534630647160502),\n",
       " ('pat_age', 0.010561012611314594),\n",
       " ('9671', 0.0072995183300943855),\n",
       " (('99592', 'N'), 0.003530879136796201),\n",
       " ('source_of_admission_4', 0.003012629124273078),\n",
       " (('78551', 'N'), 0.0026635976230266144),\n",
       " ('public_health_region_08', 0.0008719020297755505),\n",
       " (('496', 'Y'), 0.0005799032036890782),\n",
       " ('type_of_admission_3', 0.0005674689917885781),\n",
       " ('9960', 0.0005612890267805389),\n",
       " (('2760', 'N'), 0.00044179162642329147),\n",
       " ('type_of_admission_1', 0.00037476291639056895),\n",
       " ('sex_code_F', 0.0),\n",
       " ('sex_code_M', 0.0),\n",
       " ('sex_code_U', 0.0),\n",
       " ('race_1', 0.0),\n",
       " ('race_2', 0.0),\n",
       " ('race_3', 0.0),\n",
       " ('race_4', 0.0),\n",
       " ('race_5', 0.0),\n",
       " ('race_`', 0.0),\n",
       " ('ethnicity_1', 0.0),\n",
       " ('ethnicity_2', 0.0),\n",
       " ('ethnicity_`', 0.0),\n",
       " ('public_health_region_01', 0.0),\n",
       " ('public_health_region_02', 0.0),\n",
       " ('public_health_region_03', 0.0),\n",
       " ('public_health_region_04', 0.0),\n",
       " ('public_health_region_05', 0.0),\n",
       " ('public_health_region_06', 0.0),\n",
       " ('public_health_region_07', 0.0),\n",
       " ('public_health_region_09', 0.0),\n",
       " ('public_health_region_10', 0.0),\n",
       " ('public_health_region_11', 0.0),\n",
       " ('first_payment_src_09', 0.0),\n",
       " ('first_payment_src_11', 0.0),\n",
       " ('first_payment_src_12', 0.0),\n",
       " ('first_payment_src_13', 0.0),\n",
       " ('first_payment_src_14', 0.0),\n",
       " ('first_payment_src_15', 0.0),\n",
       " ('first_payment_src_16', 0.0),\n",
       " ('first_payment_src_AM', 0.0),\n",
       " ('first_payment_src_BL', 0.0),\n",
       " ('first_payment_src_CH', 0.0),\n",
       " ('first_payment_src_CI', 0.0),\n",
       " ('first_payment_src_HM', 0.0),\n",
       " ('first_payment_src_LM', 0.0),\n",
       " ('first_payment_src_MA', 0.0),\n",
       " ('first_payment_src_MB', 0.0),\n",
       " ('first_payment_src_MC', 0.0),\n",
       " ('first_payment_src_OF', 0.0),\n",
       " ('first_payment_src_VA', 0.0),\n",
       " ('first_payment_src_WC', 0.0),\n",
       " ('first_payment_src_ZZ', 0.0),\n",
       " ('hiv_drug', 0.0),\n",
       " ('type_of_admission_2', 0.0),\n",
       " ('type_of_admission_4', 0.0),\n",
       " ('type_of_admission_5', 0.0),\n",
       " ('type_of_admission_9', 0.0),\n",
       " ('source_of_admission_1', 0.0),\n",
       " ('source_of_admission_2', 0.0),\n",
       " ('source_of_admission_5', 0.0),\n",
       " ('source_of_admission_6', 0.0),\n",
       " ('source_of_admission_7', 0.0),\n",
       " ('source_of_admission_8', 0.0),\n",
       " ('source_of_admission_9', 0.0),\n",
       " ('source_of_admission_A', 0.0),\n",
       " ('source_of_admission_D', 0.0),\n",
       " ('source_of_admission_`', 0.0),\n",
       " ('admit_weekday', 0.0),\n",
       " ('hospital_teaching', 0.0),\n",
       " ('hospital_CAH', 0.0),\n",
       " ('hospital_community', 0.0),\n",
       " (('51881', 'Y'), 0.0),\n",
       " (('4019', 'Y'), 0.0),\n",
       " (('4280', 'Y'), 0.0),\n",
       " (('41401', 'Y'), 0.0),\n",
       " (('2724', 'Y'), 0.0),\n",
       " (('25000', 'Y'), 0.0),\n",
       " (('5849', 'Y'), 0.0),\n",
       " (('2762', 'Y'), 0.0),\n",
       " (('42731', 'Y'), 0.0),\n",
       " (('0389', 'Y'), 0.0),\n",
       " (('2859', 'Y'), 0.0),\n",
       " (('99592', 'Y'), 0.0),\n",
       " (('40390', 'Y'), 0.0),\n",
       " (('5856', 'Y'), 0.0),\n",
       " (('486', 'Y'), 0.0),\n",
       " (('3051', 'Y'), 0.0),\n",
       " (('2449', 'Y'), 0.0),\n",
       " (('51881', 'N'), 0.0),\n",
       " (('5849', 'N'), 0.0),\n",
       " (('2762', 'N'), 0.0),\n",
       " (('0389', 'N'), 0.0),\n",
       " (('3481', 'N'), 0.0),\n",
       " (('2768', 'N'), 0.0),\n",
       " (('4271', 'N'), 0.0),\n",
       " (('5070', 'N'), 0.0),\n",
       " (('78552', 'N'), 0.0),\n",
       " (('42741', 'N'), 0.0),\n",
       " (('42789', 'N'), 0.0),\n",
       " (('486', 'N'), 0.0),\n",
       " (('5180', 'N'), 0.0),\n",
       " (('2851', 'N'), 0.0),\n",
       " (('5845', 'N'), 0.0),\n",
       " ('9604', 0.0),\n",
       " ('9904', 0.0),\n",
       " ('3891', 0.0),\n",
       " ('3995', 0.0),\n",
       " ('8853', 0.0),\n",
       " ('0017', 0.0),\n",
       " ('9907', 0.0),\n",
       " ('3897', 0.0),\n",
       " ('0066', 0.0),\n",
       " ('3895', 0.0),\n",
       " ('0040', 0.0),\n",
       " ('9962', 0.0),\n",
       " ('9905', 0.0),\n",
       " ('3761', 0.0),\n",
       " ('9390', 0.0),\n",
       " ('8872', 0.0),\n",
       " ('3607', 0.0),\n",
       " ('0045', 0.0),\n",
       " ('3324', 0.0),\n",
       " ('4311', 0.0),\n",
       " ('3404', 0.0),\n",
       " ('3961', 0.0),\n",
       " ('9915', 0.0)]"
      ]
     },
     "execution_count": 62,
     "metadata": {},
     "output_type": "execute_result"
    }
   ],
   "source": [
    "best_tree = grids['tree'].best_estimator_\n",
    "feature_tree_coef = list(zip(X_train.columns, best_tree.feature_importances_))\n",
    "\n",
    "sorted(feature_tree_coef, key=lambda x: x[1], reverse=True)"
   ]
  },
  {
   "cell_type": "code",
   "execution_count": 63,
   "metadata": {},
   "outputs": [
    {
     "data": {
      "text/plain": [
       "[('length_of_stay', 0.28101729274879156),\n",
       " ('8856', 0.0931184462143033),\n",
       " ('3722', 0.08653033675289296),\n",
       " ('8853', 0.06827116880816102),\n",
       " ('311', 0.05230858863181524),\n",
       " ('0066', 0.04573710725344467),\n",
       " ('4311', 0.04238603663177206),\n",
       " ('9671', 0.03387215818254565),\n",
       " (('5180', 'N'), 0.026301549461166092),\n",
       " (('3481', 'Y'), 0.025583330657496378),\n",
       " ('3607', 0.024512408685874575),\n",
       " ('pat_age', 0.02280547879822847),\n",
       " ('0045', 0.01714515810598291),\n",
       " ('9672', 0.01564824161485491),\n",
       " ('0040', 0.015013257379954554),\n",
       " (('41401', 'Y'), 0.009379684278941886),\n",
       " (('2768', 'N'), 0.009361505654431052),\n",
       " ('3961', 0.008408972742180993),\n",
       " ('9904', 0.007747137391636845),\n",
       " (('2762', 'Y'), 0.007505200446427582),\n",
       " ('8872', 0.006942892814842319),\n",
       " (('2851', 'N'), 0.006754925722132789),\n",
       " ('9960', 0.006052280824961577),\n",
       " (('0389', 'Y'), 0.005613516317921612),\n",
       " (('5849', 'Y'), 0.005213523698963223),\n",
       " ('9604', 0.004925062455728932),\n",
       " ('3761', 0.004816462583611721),\n",
       " ('3995', 0.003688418280662254),\n",
       " (('99592', 'Y'), 0.0035844621245393355),\n",
       " (('5070', 'N'), 0.003054341214877901),\n",
       " (('3481', 'N'), 0.0025696043162442626),\n",
       " (('2724', 'Y'), 0.0024856680089976207),\n",
       " (('51881', 'Y'), 0.0024577468703191056),\n",
       " ('out_of_hospital_cardiac_arrest', 0.0024250230668945594),\n",
       " (('2760', 'N'), 0.0024092088649905023),\n",
       " ('type_of_admission_3', 0.002145558264476134),\n",
       " ('first_payment_src_MA', 0.0021349276255364347),\n",
       " (('78552', 'N'), 0.002127819030449011),\n",
       " (('486', 'N'), 0.001886507477277125),\n",
       " ('3893', 0.0015442172005674054),\n",
       " (('3051', 'Y'), 0.001510505198597939),\n",
       " (('5849', 'N'), 0.001469445854592893),\n",
       " (('486', 'Y'), 0.0013497970253075542),\n",
       " (('51881', 'N'), 0.0012946936937243989),\n",
       " (('4019', 'Y'), 0.0012157461320944842),\n",
       " ('0017', 0.0010974977569592266),\n",
       " (('5845', 'N'), 0.0010936075710263552),\n",
       " ('type_of_admission_1', 0.001076440192487068),\n",
       " (('42741', 'N'), 0.0010391894483621864),\n",
       " ('first_payment_src_BL', 0.0009430281499626116),\n",
       " ('3324', 0.0009036973791841453),\n",
       " ('source_of_admission_4', 0.0008055580094378582),\n",
       " (('78551', 'N'), 0.0007748317100810016),\n",
       " ('9907', 0.0007594474836312903),\n",
       " ('3891', 0.0007374626760246793),\n",
       " (('5856', 'Y'), 0.0007370895523893438),\n",
       " (('4280', 'Y'), 0.000735827745612056),\n",
       " ('source_of_admission_1', 0.0007212439611381374),\n",
       " (('25000', 'Y'), 0.000714797566754279),\n",
       " (('0389', 'N'), 0.00070758366021392),\n",
       " ('public_health_region_06', 0.0006403286223907029),\n",
       " (('2859', 'Y'), 0.0006243793309523558),\n",
       " (('2762', 'N'), 0.0006192817332301211),\n",
       " (('4271', 'N'), 0.0006017920047020755),\n",
       " ('hospital_teaching', 0.0005807780931626375),\n",
       " ('race_4', 0.0005533612204634716),\n",
       " ('race_3', 0.0005390734416154578),\n",
       " ('source_of_admission_2', 0.000519675937031985),\n",
       " (('99592', 'N'), 0.000513488161067523),\n",
       " (('42731', 'Y'), 0.0005004454396506517),\n",
       " ('hospital_community', 0.0004941607985487977),\n",
       " ('3897', 0.0004920687377536468),\n",
       " ('3895', 0.00046679080192136484),\n",
       " (('40390', 'Y'), 0.000436894506416654),\n",
       " ('sex_code_M', 0.0004265135716714205),\n",
       " ('9962', 0.0004067219037045138),\n",
       " ('ethnicity_1', 0.0004060292801074813),\n",
       " ('first_payment_src_09', 0.00040063925015487977),\n",
       " ('first_payment_src_12', 0.00039125402354429526),\n",
       " ('source_of_admission_5', 0.0003897888827246053),\n",
       " ('sex_code_F', 0.00038553028639843695),\n",
       " ('public_health_region_05', 0.00036985842222965324),\n",
       " ('9905', 0.0003196475163054837),\n",
       " ('9390', 0.00028443937113838515),\n",
       " ('race_5', 0.0002778993547395898),\n",
       " ('admit_weekday', 0.0002754958974747476),\n",
       " ('9915', 0.00027052054730963636),\n",
       " ('ethnicity_2', 0.0002667681126944593),\n",
       " ('hiv_drug', 0.0002619117163892168),\n",
       " ('public_health_region_11', 0.0002203214042387277),\n",
       " (('496', 'Y'), 0.00021592944502646223),\n",
       " ('public_health_region_08', 0.00019107549875392184),\n",
       " (('42789', 'N'), 0.0001692430849998234),\n",
       " ('3404', 0.00016290004263200936),\n",
       " ('public_health_region_03', 0.00014055481732978215),\n",
       " ('type_of_admission_2', 0.00013873583411992162),\n",
       " ('public_health_region_09', 0.00012185944003099083),\n",
       " ('source_of_admission_6', 9.90974508538554e-05),\n",
       " ('first_payment_src_CI', 9.666832687821923e-05),\n",
       " ('public_health_region_02', 9.316486735507638e-05),\n",
       " ('public_health_region_07', 8.005854070174476e-05),\n",
       " ('first_payment_src_MC', 7.893190371555379e-05),\n",
       " ('race_1', 7.69553463585451e-05),\n",
       " ('first_payment_src_16', 6.156105855562559e-05),\n",
       " ('public_health_region_04', 5.474476441595875e-05),\n",
       " ('public_health_region_01', 5.253460794888627e-05),\n",
       " ('hospital_CAH', 3.920954026945611e-05),\n",
       " (('2449', 'Y'), 1.819908784339702e-05),\n",
       " ('sex_code_U', 0.0),\n",
       " ('race_2', 0.0),\n",
       " ('race_`', 0.0),\n",
       " ('ethnicity_`', 0.0),\n",
       " ('public_health_region_10', 0.0),\n",
       " ('first_payment_src_11', 0.0),\n",
       " ('first_payment_src_13', 0.0),\n",
       " ('first_payment_src_14', 0.0),\n",
       " ('first_payment_src_15', 0.0),\n",
       " ('first_payment_src_AM', 0.0),\n",
       " ('first_payment_src_CH', 0.0),\n",
       " ('first_payment_src_HM', 0.0),\n",
       " ('first_payment_src_LM', 0.0),\n",
       " ('first_payment_src_MB', 0.0),\n",
       " ('first_payment_src_OF', 0.0),\n",
       " ('first_payment_src_VA', 0.0),\n",
       " ('first_payment_src_WC', 0.0),\n",
       " ('first_payment_src_ZZ', 0.0),\n",
       " ('type_of_admission_4', 0.0),\n",
       " ('type_of_admission_5', 0.0),\n",
       " ('type_of_admission_9', 0.0),\n",
       " ('source_of_admission_7', 0.0),\n",
       " ('source_of_admission_8', 0.0),\n",
       " ('source_of_admission_9', 0.0),\n",
       " ('source_of_admission_A', 0.0),\n",
       " ('source_of_admission_D', 0.0),\n",
       " ('source_of_admission_`', 0.0)]"
      ]
     },
     "execution_count": 63,
     "metadata": {},
     "output_type": "execute_result"
    }
   ],
   "source": [
    "best_forest = grids['forest'].best_estimator_\n",
    "feature_forest_coef = list(zip(X_train.columns, best_forest.feature_importances_))\n",
    "\n",
    "sorted(feature_forest_coef, key=lambda x: x[1], reverse=True)"
   ]
  },
  {
   "cell_type": "code",
   "execution_count": 67,
   "metadata": {},
   "outputs": [
    {
     "data": {
      "text/html": [
       "<div>\n",
       "<style scoped>\n",
       "    .dataframe tbody tr th:only-of-type {\n",
       "        vertical-align: middle;\n",
       "    }\n",
       "\n",
       "    .dataframe tbody tr th {\n",
       "        vertical-align: top;\n",
       "    }\n",
       "\n",
       "    .dataframe thead th {\n",
       "        text-align: right;\n",
       "    }\n",
       "</style>\n",
       "<table border=\"1\" class=\"dataframe\">\n",
       "  <thead>\n",
       "    <tr style=\"text-align: right;\">\n",
       "      <th></th>\n",
       "      <th>sex_code_F</th>\n",
       "      <th>sex_code_M</th>\n",
       "      <th>sex_code_U</th>\n",
       "      <th>race_1</th>\n",
       "      <th>race_2</th>\n",
       "      <th>race_3</th>\n",
       "      <th>race_4</th>\n",
       "      <th>race_5</th>\n",
       "      <th>race_`</th>\n",
       "      <th>ethnicity_1</th>\n",
       "      <th>...</th>\n",
       "      <th>3761</th>\n",
       "      <th>9390</th>\n",
       "      <th>8872</th>\n",
       "      <th>3607</th>\n",
       "      <th>0045</th>\n",
       "      <th>3324</th>\n",
       "      <th>4311</th>\n",
       "      <th>3404</th>\n",
       "      <th>3961</th>\n",
       "      <th>9915</th>\n",
       "    </tr>\n",
       "    <tr>\n",
       "      <th>record_id</th>\n",
       "      <th></th>\n",
       "      <th></th>\n",
       "      <th></th>\n",
       "      <th></th>\n",
       "      <th></th>\n",
       "      <th></th>\n",
       "      <th></th>\n",
       "      <th></th>\n",
       "      <th></th>\n",
       "      <th></th>\n",
       "      <th></th>\n",
       "      <th></th>\n",
       "      <th></th>\n",
       "      <th></th>\n",
       "      <th></th>\n",
       "      <th></th>\n",
       "      <th></th>\n",
       "      <th></th>\n",
       "      <th></th>\n",
       "      <th></th>\n",
       "      <th></th>\n",
       "    </tr>\n",
       "  </thead>\n",
       "  <tbody>\n",
       "    <tr>\n",
       "      <th>120110705976</th>\n",
       "      <td>0</td>\n",
       "      <td>1</td>\n",
       "      <td>0</td>\n",
       "      <td>0</td>\n",
       "      <td>0</td>\n",
       "      <td>1</td>\n",
       "      <td>0</td>\n",
       "      <td>0</td>\n",
       "      <td>0</td>\n",
       "      <td>0</td>\n",
       "      <td>...</td>\n",
       "      <td>0</td>\n",
       "      <td>0</td>\n",
       "      <td>0</td>\n",
       "      <td>0</td>\n",
       "      <td>0</td>\n",
       "      <td>0</td>\n",
       "      <td>0</td>\n",
       "      <td>0</td>\n",
       "      <td>0</td>\n",
       "      <td>0</td>\n",
       "    </tr>\n",
       "    <tr>\n",
       "      <th>320110458877</th>\n",
       "      <td>0</td>\n",
       "      <td>0</td>\n",
       "      <td>0</td>\n",
       "      <td>0</td>\n",
       "      <td>0</td>\n",
       "      <td>1</td>\n",
       "      <td>0</td>\n",
       "      <td>0</td>\n",
       "      <td>0</td>\n",
       "      <td>0</td>\n",
       "      <td>...</td>\n",
       "      <td>0</td>\n",
       "      <td>0</td>\n",
       "      <td>0</td>\n",
       "      <td>0</td>\n",
       "      <td>0</td>\n",
       "      <td>0</td>\n",
       "      <td>0</td>\n",
       "      <td>0</td>\n",
       "      <td>0</td>\n",
       "      <td>0</td>\n",
       "    </tr>\n",
       "    <tr>\n",
       "      <th>420110423897</th>\n",
       "      <td>0</td>\n",
       "      <td>1</td>\n",
       "      <td>0</td>\n",
       "      <td>0</td>\n",
       "      <td>0</td>\n",
       "      <td>0</td>\n",
       "      <td>0</td>\n",
       "      <td>1</td>\n",
       "      <td>0</td>\n",
       "      <td>1</td>\n",
       "      <td>...</td>\n",
       "      <td>0</td>\n",
       "      <td>0</td>\n",
       "      <td>0</td>\n",
       "      <td>0</td>\n",
       "      <td>0</td>\n",
       "      <td>1</td>\n",
       "      <td>0</td>\n",
       "      <td>0</td>\n",
       "      <td>0</td>\n",
       "      <td>0</td>\n",
       "    </tr>\n",
       "    <tr>\n",
       "      <th>420110428336</th>\n",
       "      <td>0</td>\n",
       "      <td>1</td>\n",
       "      <td>0</td>\n",
       "      <td>0</td>\n",
       "      <td>0</td>\n",
       "      <td>0</td>\n",
       "      <td>1</td>\n",
       "      <td>0</td>\n",
       "      <td>0</td>\n",
       "      <td>0</td>\n",
       "      <td>...</td>\n",
       "      <td>0</td>\n",
       "      <td>0</td>\n",
       "      <td>0</td>\n",
       "      <td>0</td>\n",
       "      <td>1</td>\n",
       "      <td>0</td>\n",
       "      <td>0</td>\n",
       "      <td>0</td>\n",
       "      <td>0</td>\n",
       "      <td>0</td>\n",
       "    </tr>\n",
       "    <tr>\n",
       "      <th>420110426921</th>\n",
       "      <td>1</td>\n",
       "      <td>0</td>\n",
       "      <td>0</td>\n",
       "      <td>0</td>\n",
       "      <td>0</td>\n",
       "      <td>0</td>\n",
       "      <td>1</td>\n",
       "      <td>0</td>\n",
       "      <td>0</td>\n",
       "      <td>0</td>\n",
       "      <td>...</td>\n",
       "      <td>0</td>\n",
       "      <td>0</td>\n",
       "      <td>0</td>\n",
       "      <td>0</td>\n",
       "      <td>0</td>\n",
       "      <td>0</td>\n",
       "      <td>0</td>\n",
       "      <td>0</td>\n",
       "      <td>0</td>\n",
       "      <td>0</td>\n",
       "    </tr>\n",
       "    <tr>\n",
       "      <th>420110437747</th>\n",
       "      <td>0</td>\n",
       "      <td>1</td>\n",
       "      <td>0</td>\n",
       "      <td>0</td>\n",
       "      <td>0</td>\n",
       "      <td>0</td>\n",
       "      <td>1</td>\n",
       "      <td>0</td>\n",
       "      <td>0</td>\n",
       "      <td>0</td>\n",
       "      <td>...</td>\n",
       "      <td>0</td>\n",
       "      <td>0</td>\n",
       "      <td>0</td>\n",
       "      <td>0</td>\n",
       "      <td>0</td>\n",
       "      <td>0</td>\n",
       "      <td>0</td>\n",
       "      <td>1</td>\n",
       "      <td>0</td>\n",
       "      <td>0</td>\n",
       "    </tr>\n",
       "    <tr>\n",
       "      <th>420110649470</th>\n",
       "      <td>0</td>\n",
       "      <td>1</td>\n",
       "      <td>0</td>\n",
       "      <td>0</td>\n",
       "      <td>0</td>\n",
       "      <td>0</td>\n",
       "      <td>1</td>\n",
       "      <td>0</td>\n",
       "      <td>0</td>\n",
       "      <td>0</td>\n",
       "      <td>...</td>\n",
       "      <td>0</td>\n",
       "      <td>0</td>\n",
       "      <td>0</td>\n",
       "      <td>0</td>\n",
       "      <td>0</td>\n",
       "      <td>0</td>\n",
       "      <td>0</td>\n",
       "      <td>1</td>\n",
       "      <td>0</td>\n",
       "      <td>0</td>\n",
       "    </tr>\n",
       "  </tbody>\n",
       "</table>\n",
       "<p>7 rows × 135 columns</p>\n",
       "</div>"
      ],
      "text/plain": [
       "              sex_code_F  sex_code_M  sex_code_U  race_1  race_2  race_3  \\\n",
       "record_id                                                                  \n",
       "120110705976           0           1           0       0       0       1   \n",
       "320110458877           0           0           0       0       0       1   \n",
       "420110423897           0           1           0       0       0       0   \n",
       "420110428336           0           1           0       0       0       0   \n",
       "420110426921           1           0           0       0       0       0   \n",
       "420110437747           0           1           0       0       0       0   \n",
       "420110649470           0           1           0       0       0       0   \n",
       "\n",
       "              race_4  race_5  race_`  ethnicity_1  ...   3761  9390  8872  \\\n",
       "record_id                                          ...                      \n",
       "120110705976       0       0       0            0  ...      0     0     0   \n",
       "320110458877       0       0       0            0  ...      0     0     0   \n",
       "420110423897       0       1       0            1  ...      0     0     0   \n",
       "420110428336       1       0       0            0  ...      0     0     0   \n",
       "420110426921       1       0       0            0  ...      0     0     0   \n",
       "420110437747       1       0       0            0  ...      0     0     0   \n",
       "420110649470       1       0       0            0  ...      0     0     0   \n",
       "\n",
       "              3607  0045  3324  4311  3404  3961  9915  \n",
       "record_id                                               \n",
       "120110705976     0     0     0     0     0     0     0  \n",
       "320110458877     0     0     0     0     0     0     0  \n",
       "420110423897     0     0     1     0     0     0     0  \n",
       "420110428336     0     1     0     0     0     0     0  \n",
       "420110426921     0     0     0     0     0     0     0  \n",
       "420110437747     0     0     0     0     1     0     0  \n",
       "420110649470     0     0     0     0     1     0     0  \n",
       "\n",
       "[7 rows x 135 columns]"
      ]
     },
     "execution_count": 67,
     "metadata": {},
     "output_type": "execute_result"
    }
   ],
   "source": [
    "X_clean_dummified_full[X_clean_dummified_full['first_payment_src_AM'] == 1]"
   ]
  },
  {
   "cell_type": "code",
   "execution_count": 69,
   "metadata": {},
   "outputs": [
    {
     "data": {
      "text/plain": [
       "record_id\n",
       "120110705976    expired\n",
       "320110458877    expired\n",
       "420110423897    expired\n",
       "420110428336    expired\n",
       "420110426921    expired\n",
       "420110437747    expired\n",
       "420110649470    expired\n",
       "Name: pat_status, dtype: object"
      ]
     },
     "execution_count": 69,
     "metadata": {},
     "output_type": "execute_result"
    }
   ],
   "source": [
    "y[X_clean_dummified_full['first_payment_src_AM'] == 1]"
   ]
  },
  {
   "cell_type": "code",
   "execution_count": 74,
   "metadata": {},
   "outputs": [],
   "source": [
    "automobile_medical = X[X_clean_dummified_full['first_payment_src_AM'] == 1].copy()"
   ]
  },
  {
   "cell_type": "code",
   "execution_count": 76,
   "metadata": {},
   "outputs": [
    {
     "data": {
      "text/plain": [
       "record_id\n",
       "120110705976    [(86122, Y), (82392, Y), (9580, Y), (4275, Y),...\n",
       "320110458877    [(9010, Y), (9584, N), (8080, Y), (8074, Y), (...\n",
       "420110423897    [(3481, Y), (80625, Y), (80600, Y), (34882, N)...\n",
       "420110428336    [(41051, Y), (4275, Y), (3481, Y), (4271, Y), ...\n",
       "420110426921    [(85205, Y), (9584, Y), (8600, Y), (0389, N), ...\n",
       "420110437747    [(90210, Y), (9584, Y), (86803, Y), (8072, Y),...\n",
       "420110649470    [(80375, Y), (86503, Y), (9584, Y), (4275, Y),...\n",
       "Name: diag_poa_list, dtype: object"
      ]
     },
     "execution_count": 76,
     "metadata": {},
     "output_type": "execute_result"
    }
   ],
   "source": [
    "automobile_medical['diag_poa_list']"
   ]
  },
  {
   "cell_type": "code",
   "execution_count": 89,
   "metadata": {},
   "outputs": [
    {
     "name": "stdout",
     "output_type": "stream",
     "text": [
      "120110705976\n",
      "Laceration of lung without mention of open wound into thorax\n",
      "Open fracture of unspecified part of fibula with tibia\n",
      "Air embolism\n",
      "Cardiac arrest\n",
      "Injury to other and multiple intra-abdominal organs without mention of open wound into cavity\n",
      "Traumatic hemothorax without mention of open wound into thorax\n",
      "Injury to spleen without mention of open wound into cavity, unspecified injury\n",
      "Hemorrhage, unspecified\n",
      "\n",
      "\n",
      "320110458877\n",
      "Injury to thoracic aorta\n",
      "Traumatic shock\n",
      "Closed fracture of acetabulum\n",
      "Flail chest\n",
      "Injury to spleen without mention of open wound into cavity, laceration extending into parenchyma\n",
      "Traumatic pneumohemothorax without mention of open wound into thorax\n",
      "Closed fracture of cervical vertebra, unspecified level\n",
      "Closed fracture of unspecified part of tibia alone\n",
      "Closed fracture of multiple ribs, unspecified\n",
      "Cardiac arrest\n",
      "Closed fracture of scapula, unspecified part\n",
      "Contusion of heart without mention of open wound into thorax\n",
      "Congestive heart failure, unspecified\n",
      "Alcohol abuse, unspecified\n",
      "Cannabis abuse, unspecified\n",
      "Other convulsions\n",
      "\n",
      "\n",
      "420110423897\n",
      "Anoxic brain damage\n",
      "Closed fracture of T7-T12 level with unspecified spinal cord injury\n",
      "Closed fracture of C1-C4 level with unspecified spinal cord injury\n",
      "Brain death\n",
      "Pneumonia, organism unspecified\n",
      "Closed fracture of multiple ribs, unspecified\n",
      "Contusion of lung without mention of open wound into thorax\n",
      "Closed fracture of fourth cervical vertebra\n",
      "Closed fracture of sternum\n",
      "Diabetes insipidus\n",
      "Other and unspecified hyperlipidemia\n",
      "Cardiac arrest\n",
      "Epilepsy, unspecified, without mention of intractable epilepsy\n",
      "\n",
      "\n",
      "420110428336\n",
      "Acute myocardial infarction of other lateral wall, initial episode of care\n",
      "Cardiac arrest\n",
      "Anoxic brain damage\n",
      "Paroxysmal ventricular tachycardia\n",
      "Other specified open wounds of ocular adnexa\n",
      "Coronary atherosclerosis of native coronary artery\n",
      "Hyperpotassemia\n",
      "\n",
      "\n",
      "420110426921\n",
      "Subarachnoid hemorrhage following injury without mention of open intracranial wound, with prolonged [more than 24 hours] loss of consciousness without return to pre-existing conscious level\n",
      "Traumatic shock\n",
      "Traumatic pneumothorax without mention of open wound into thorax\n",
      "Unspecified septicemia\n",
      "Sepsis\n",
      "Cerebral artery occlusion, unspecified with cerebral infarction\n",
      "Cerebral edema\n",
      "Closed fracture of second cervical vertebra\n",
      "Acidosis\n",
      "Precipitous drop in hematocrit\n",
      "Contusion of lung without mention of open wound into thorax\n",
      "Open wound of scalp, without mention of complication\n",
      "Cardiac arrest\n",
      "Traumatic compartment syndrome of abdomen\n",
      "Brain death\n",
      "\n",
      "\n",
      "420110437747\n",
      "Injury to inferior vena cava, unspecified\n",
      "Traumatic shock\n",
      "Injury to other intra-abdominal organs without mention of open wound into cavity, peritoneum\n",
      "Closed fracture of sternum\n",
      "Cardiac arrest\n",
      "Injury to inferior mesenteric vein\n",
      "Injury to liver without mention of open wound into cavity, laceration, major\n",
      "Closed fracture of multiple ribs, unspecified\n",
      "Paroxysmal ventricular tachycardia\n",
      "Other and unspecified coagulation defects\n",
      "Injury to spleen without mention of open wound into cavity, unspecified injury\n",
      "Injury to portal vein\n",
      "Injury to renal vein\n",
      "Injury to pancreas, head, without mention of open wound into cavity\n",
      "Injury to other intra-abdominal organs without mention of open wound into cavity, retroperitoneum\n",
      "\n",
      "\n",
      "420110649470\n",
      "Other open skull fracture with subarachnoid, subdural, and extradural hemorrhage, with prolonged [more than 24 hours] loss of consciousness, without return to pre-existing conscious level\n",
      "Injury to spleen without mention of open wound into cavity, laceration extending into parenchyma\n",
      "Traumatic shock\n",
      "Cardiac arrest\n",
      "\n",
      "\n"
     ]
    }
   ],
   "source": [
    "clinical_tables_query = \"https://clinicaltables.nlm.nih.gov/api/icd9cm_dx/v3/search?terms={}\"\n",
    "\n",
    "for index, diag_poa_list in automobile_medical['diag_poa_list'].iteritems():\n",
    "    print(index)\n",
    "    for diag_poa in diag_poa_list:\n",
    "        if diag_poa[0]:\n",
    "            response = requests.get(clinical_tables_query.format(diag_poa[0]))\n",
    "            val = response.json()\n",
    "            print(val[3][0][1].strip())\n",
    "    print(\"\\n\")"
   ]
  }
 ],
 "metadata": {
  "kernelspec": {
   "display_name": "Python 3",
   "language": "python",
   "name": "python3"
  }
 },
 "nbformat": 4,
 "nbformat_minor": 2
}
