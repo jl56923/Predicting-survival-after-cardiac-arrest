{
 "cells": [
  {
   "cell_type": "code",
   "execution_count": 2,
   "metadata": {},
   "outputs": [],
   "source": [
    "import pickle\n",
    "import numpy as np\n",
    "import pandas as pd"
   ]
  },
  {
   "cell_type": "code",
   "execution_count": 85,
   "metadata": {},
   "outputs": [
    {
     "name": "stdout",
     "output_type": "stream",
     "text": [
      "X_train_test_y_train_test.pkl\n",
      "X_y_ternary.pkl\n",
      "cardiac_arrest_dfs.pkl\n",
      "dem_hosp_dx_proc_orig_X_dfs.pkl\n",
      "full_X_y_df.pkl\n",
      "gbc_model.pkl\n",
      "grid_gbc.pkl\n",
      "logr_tree_forest_gridsearch.pkl\n",
      "logr_tree_forest_svc_gridsearch.pkl\n",
      "master_influenza_df.pkl\n",
      "prediction_vector.pkl\n",
      "scaled_X_train_test_y_train_test.pkl\n",
      "svm_logr_tree_forest_mlp_gridsearch.pkl\n",
      "y_h2o_full_df.pkl\n",
      "y_h2o_test_df.pkl\n",
      "y_h2o_test_df_2.pkl\n"
     ]
    }
   ],
   "source": [
    "%%bash\n",
    "ls pkls/"
   ]
  },
  {
   "cell_type": "code",
   "execution_count": 234,
   "metadata": {},
   "outputs": [],
   "source": [
    "with open(\"pkls/grid_gbc.pkl\", \"rb\") as picklefile:\n",
    "    grid_gbc=pickle.load(picklefile)"
   ]
  },
  {
   "cell_type": "code",
   "execution_count": 235,
   "metadata": {},
   "outputs": [],
   "source": [
    "gbc_model = grid_gbc.best_estimator_"
   ]
  },
  {
   "cell_type": "code",
   "execution_count": 236,
   "metadata": {},
   "outputs": [],
   "source": [
    "with open(\"pkls/gbc_model.pkl\", \"wb\") as picklefile:\n",
    "    pickle.dump(grid_gbc.best_estimator_, picklefile)"
   ]
  },
  {
   "cell_type": "code",
   "execution_count": 238,
   "metadata": {},
   "outputs": [],
   "source": [
    "with open(\"pkls/scaled_X_train_test_y_train_test.pkl\", \"rb\") as picklefile:\n",
    "    [X_train, X_test, y_train, y_test] = pickle.load(picklefile)"
   ]
  },
  {
   "cell_type": "code",
   "execution_count": 239,
   "metadata": {},
   "outputs": [
    {
     "data": {
      "text/html": [
       "<div>\n",
       "<style scoped>\n",
       "    .dataframe tbody tr th:only-of-type {\n",
       "        vertical-align: middle;\n",
       "    }\n",
       "\n",
       "    .dataframe tbody tr th {\n",
       "        vertical-align: top;\n",
       "    }\n",
       "\n",
       "    .dataframe thead th {\n",
       "        text-align: right;\n",
       "    }\n",
       "</style>\n",
       "<table border=\"1\" class=\"dataframe\">\n",
       "  <thead>\n",
       "    <tr style=\"text-align: right;\">\n",
       "      <th></th>\n",
       "      <th>sex_code_F</th>\n",
       "      <th>sex_code_M</th>\n",
       "      <th>sex_code_U</th>\n",
       "      <th>race_1</th>\n",
       "      <th>race_2</th>\n",
       "      <th>race_3</th>\n",
       "      <th>race_4</th>\n",
       "      <th>race_5</th>\n",
       "      <th>race_`</th>\n",
       "      <th>ethnicity_1</th>\n",
       "      <th>...</th>\n",
       "      <th>3761</th>\n",
       "      <th>9390</th>\n",
       "      <th>8872</th>\n",
       "      <th>3607</th>\n",
       "      <th>0045</th>\n",
       "      <th>3324</th>\n",
       "      <th>4311</th>\n",
       "      <th>3404</th>\n",
       "      <th>3961</th>\n",
       "      <th>9915</th>\n",
       "    </tr>\n",
       "    <tr>\n",
       "      <th>record_id</th>\n",
       "      <th></th>\n",
       "      <th></th>\n",
       "      <th></th>\n",
       "      <th></th>\n",
       "      <th></th>\n",
       "      <th></th>\n",
       "      <th></th>\n",
       "      <th></th>\n",
       "      <th></th>\n",
       "      <th></th>\n",
       "      <th></th>\n",
       "      <th></th>\n",
       "      <th></th>\n",
       "      <th></th>\n",
       "      <th></th>\n",
       "      <th></th>\n",
       "      <th></th>\n",
       "      <th></th>\n",
       "      <th></th>\n",
       "      <th></th>\n",
       "      <th></th>\n",
       "    </tr>\n",
       "  </thead>\n",
       "  <tbody>\n",
       "    <tr>\n",
       "      <th>420110761749</th>\n",
       "      <td>0</td>\n",
       "      <td>1</td>\n",
       "      <td>0</td>\n",
       "      <td>0</td>\n",
       "      <td>0</td>\n",
       "      <td>1</td>\n",
       "      <td>0</td>\n",
       "      <td>0</td>\n",
       "      <td>0</td>\n",
       "      <td>0</td>\n",
       "      <td>...</td>\n",
       "      <td>0</td>\n",
       "      <td>0</td>\n",
       "      <td>0</td>\n",
       "      <td>0</td>\n",
       "      <td>0</td>\n",
       "      <td>0</td>\n",
       "      <td>0</td>\n",
       "      <td>0</td>\n",
       "      <td>0</td>\n",
       "      <td>0</td>\n",
       "    </tr>\n",
       "    <tr>\n",
       "      <th>220110514002</th>\n",
       "      <td>1</td>\n",
       "      <td>0</td>\n",
       "      <td>0</td>\n",
       "      <td>0</td>\n",
       "      <td>0</td>\n",
       "      <td>1</td>\n",
       "      <td>0</td>\n",
       "      <td>0</td>\n",
       "      <td>0</td>\n",
       "      <td>0</td>\n",
       "      <td>...</td>\n",
       "      <td>0</td>\n",
       "      <td>0</td>\n",
       "      <td>0</td>\n",
       "      <td>0</td>\n",
       "      <td>0</td>\n",
       "      <td>0</td>\n",
       "      <td>0</td>\n",
       "      <td>0</td>\n",
       "      <td>0</td>\n",
       "      <td>0</td>\n",
       "    </tr>\n",
       "    <tr>\n",
       "      <th>120110304733</th>\n",
       "      <td>0</td>\n",
       "      <td>1</td>\n",
       "      <td>0</td>\n",
       "      <td>0</td>\n",
       "      <td>0</td>\n",
       "      <td>0</td>\n",
       "      <td>1</td>\n",
       "      <td>0</td>\n",
       "      <td>0</td>\n",
       "      <td>1</td>\n",
       "      <td>...</td>\n",
       "      <td>0</td>\n",
       "      <td>0</td>\n",
       "      <td>0</td>\n",
       "      <td>0</td>\n",
       "      <td>0</td>\n",
       "      <td>0</td>\n",
       "      <td>0</td>\n",
       "      <td>0</td>\n",
       "      <td>0</td>\n",
       "      <td>0</td>\n",
       "    </tr>\n",
       "    <tr>\n",
       "      <th>120110426880</th>\n",
       "      <td>0</td>\n",
       "      <td>1</td>\n",
       "      <td>0</td>\n",
       "      <td>0</td>\n",
       "      <td>0</td>\n",
       "      <td>0</td>\n",
       "      <td>0</td>\n",
       "      <td>1</td>\n",
       "      <td>0</td>\n",
       "      <td>0</td>\n",
       "      <td>...</td>\n",
       "      <td>0</td>\n",
       "      <td>0</td>\n",
       "      <td>0</td>\n",
       "      <td>0</td>\n",
       "      <td>0</td>\n",
       "      <td>0</td>\n",
       "      <td>0</td>\n",
       "      <td>0</td>\n",
       "      <td>0</td>\n",
       "      <td>0</td>\n",
       "    </tr>\n",
       "    <tr>\n",
       "      <th>220110444681</th>\n",
       "      <td>0</td>\n",
       "      <td>0</td>\n",
       "      <td>0</td>\n",
       "      <td>0</td>\n",
       "      <td>0</td>\n",
       "      <td>1</td>\n",
       "      <td>0</td>\n",
       "      <td>0</td>\n",
       "      <td>0</td>\n",
       "      <td>0</td>\n",
       "      <td>...</td>\n",
       "      <td>0</td>\n",
       "      <td>0</td>\n",
       "      <td>0</td>\n",
       "      <td>0</td>\n",
       "      <td>0</td>\n",
       "      <td>0</td>\n",
       "      <td>1</td>\n",
       "      <td>0</td>\n",
       "      <td>0</td>\n",
       "      <td>0</td>\n",
       "    </tr>\n",
       "  </tbody>\n",
       "</table>\n",
       "<p>5 rows × 135 columns</p>\n",
       "</div>"
      ],
      "text/plain": [
       "              sex_code_F  sex_code_M  sex_code_U  race_1  race_2  race_3  \\\n",
       "record_id                                                                  \n",
       "420110761749           0           1           0       0       0       1   \n",
       "220110514002           1           0           0       0       0       1   \n",
       "120110304733           0           1           0       0       0       0   \n",
       "120110426880           0           1           0       0       0       0   \n",
       "220110444681           0           0           0       0       0       1   \n",
       "\n",
       "              race_4  race_5  race_`  ethnicity_1  ...   3761  9390  8872  \\\n",
       "record_id                                          ...                      \n",
       "420110761749       0       0       0            0  ...      0     0     0   \n",
       "220110514002       0       0       0            0  ...      0     0     0   \n",
       "120110304733       1       0       0            1  ...      0     0     0   \n",
       "120110426880       0       1       0            0  ...      0     0     0   \n",
       "220110444681       0       0       0            0  ...      0     0     0   \n",
       "\n",
       "              3607  0045  3324  4311  3404  3961  9915  \n",
       "record_id                                               \n",
       "420110761749     0     0     0     0     0     0     0  \n",
       "220110514002     0     0     0     0     0     0     0  \n",
       "120110304733     0     0     0     0     0     0     0  \n",
       "120110426880     0     0     0     0     0     0     0  \n",
       "220110444681     0     0     0     1     0     0     0  \n",
       "\n",
       "[5 rows x 135 columns]"
      ]
     },
     "execution_count": 239,
     "metadata": {},
     "output_type": "execute_result"
    }
   ],
   "source": [
    "X_train.head()"
   ]
  },
  {
   "cell_type": "code",
   "execution_count": 240,
   "metadata": {},
   "outputs": [
    {
     "data": {
      "text/plain": [
       "['sex_code_F',\n",
       " 'sex_code_M',\n",
       " 'sex_code_U',\n",
       " 'race_1',\n",
       " 'race_2',\n",
       " 'race_3',\n",
       " 'race_4',\n",
       " 'race_5',\n",
       " 'race_`',\n",
       " 'ethnicity_1',\n",
       " 'ethnicity_2',\n",
       " 'ethnicity_`',\n",
       " 'public_health_region_01',\n",
       " 'public_health_region_02',\n",
       " 'public_health_region_03',\n",
       " 'public_health_region_04',\n",
       " 'public_health_region_05',\n",
       " 'public_health_region_06',\n",
       " 'public_health_region_07',\n",
       " 'public_health_region_08',\n",
       " 'public_health_region_09',\n",
       " 'public_health_region_10',\n",
       " 'public_health_region_11',\n",
       " 'first_payment_src_09',\n",
       " 'first_payment_src_11',\n",
       " 'first_payment_src_12',\n",
       " 'first_payment_src_13',\n",
       " 'first_payment_src_14',\n",
       " 'first_payment_src_15',\n",
       " 'first_payment_src_16',\n",
       " 'first_payment_src_AM',\n",
       " 'first_payment_src_BL',\n",
       " 'first_payment_src_CH',\n",
       " 'first_payment_src_CI',\n",
       " 'first_payment_src_HM',\n",
       " 'first_payment_src_LM',\n",
       " 'first_payment_src_MA',\n",
       " 'first_payment_src_MB',\n",
       " 'first_payment_src_MC',\n",
       " 'first_payment_src_OF',\n",
       " 'first_payment_src_VA',\n",
       " 'first_payment_src_WC',\n",
       " 'first_payment_src_ZZ',\n",
       " 'pat_age',\n",
       " 'hiv_drug',\n",
       " 'type_of_admission_1',\n",
       " 'type_of_admission_2',\n",
       " 'type_of_admission_3',\n",
       " 'type_of_admission_4',\n",
       " 'type_of_admission_5',\n",
       " 'type_of_admission_9',\n",
       " 'source_of_admission_1',\n",
       " 'source_of_admission_2',\n",
       " 'source_of_admission_4',\n",
       " 'source_of_admission_5',\n",
       " 'source_of_admission_6',\n",
       " 'source_of_admission_7',\n",
       " 'source_of_admission_8',\n",
       " 'source_of_admission_9',\n",
       " 'source_of_admission_A',\n",
       " 'source_of_admission_D',\n",
       " 'source_of_admission_`',\n",
       " 'admit_weekday',\n",
       " 'length_of_stay',\n",
       " 'hospital_teaching',\n",
       " 'hospital_CAH',\n",
       " 'hospital_community',\n",
       " ('51881', 'Y'),\n",
       " ('4019', 'Y'),\n",
       " ('4280', 'Y'),\n",
       " ('41401', 'Y'),\n",
       " ('2724', 'Y'),\n",
       " ('25000', 'Y'),\n",
       " ('5849', 'Y'),\n",
       " ('3481', 'Y'),\n",
       " ('2762', 'Y'),\n",
       " ('42731', 'Y'),\n",
       " ('0389', 'Y'),\n",
       " ('2859', 'Y'),\n",
       " ('99592', 'Y'),\n",
       " ('40390', 'Y'),\n",
       " ('5856', 'Y'),\n",
       " ('486', 'Y'),\n",
       " ('496', 'Y'),\n",
       " ('3051', 'Y'),\n",
       " ('2449', 'Y'),\n",
       " ('51881', 'N'),\n",
       " ('5849', 'N'),\n",
       " ('2762', 'N'),\n",
       " ('0389', 'N'),\n",
       " ('99592', 'N'),\n",
       " ('3481', 'N'),\n",
       " ('2768', 'N'),\n",
       " ('4271', 'N'),\n",
       " ('5070', 'N'),\n",
       " ('2760', 'N'),\n",
       " ('78552', 'N'),\n",
       " ('42741', 'N'),\n",
       " ('42789', 'N'),\n",
       " ('486', 'N'),\n",
       " ('5180', 'N'),\n",
       " ('78551', 'N'),\n",
       " ('2851', 'N'),\n",
       " ('5845', 'N'),\n",
       " 'out_of_hospital_cardiac_arrest',\n",
       " '9604',\n",
       " '9671',\n",
       " '9960',\n",
       " '3893',\n",
       " '9904',\n",
       " '9672',\n",
       " '3891',\n",
       " '3995',\n",
       " '8856',\n",
       " '3722',\n",
       " '8853',\n",
       " '0017',\n",
       " '9907',\n",
       " '3897',\n",
       " '0066',\n",
       " '3895',\n",
       " '0040',\n",
       " '9962',\n",
       " '311',\n",
       " '9905',\n",
       " '3761',\n",
       " '9390',\n",
       " '8872',\n",
       " '3607',\n",
       " '0045',\n",
       " '3324',\n",
       " '4311',\n",
       " '3404',\n",
       " '3961',\n",
       " '9915']"
      ]
     },
     "execution_count": 240,
     "metadata": {},
     "output_type": "execute_result"
    }
   ],
   "source": [
    "list(X_train.columns)"
   ]
  },
  {
   "cell_type": "code",
   "execution_count": 241,
   "metadata": {},
   "outputs": [
    {
     "name": "stdout",
     "output_type": "stream",
     "text": [
      "X_train_test_y_train_test.pkl\n",
      "cardiac_arrest_dfs.pkl\n",
      "dem_hosp_dx_proc_orig_X_dfs.pkl\n",
      "gbc_model.pkl\n",
      "grid_gbc.pkl\n",
      "logr_tree_forest_gridsearch.pkl\n",
      "logr_tree_forest_svc_gridsearch.pkl\n",
      "scaled_X_train_test_y_train_test.pkl\n"
     ]
    }
   ],
   "source": [
    "%%bash\n",
    "ls pkls/"
   ]
  },
  {
   "cell_type": "code",
   "execution_count": 12,
   "metadata": {},
   "outputs": [],
   "source": [
    "with open(\"pkls/dem_hosp_dx_proc_orig_X_dfs.pkl\", \"rb\") as picklefile:\n",
    "    [X_demographic, X_hospital, X_diagnoses, X_procedures, X_orig] = pickle.load(picklefile)"
   ]
  },
  {
   "cell_type": "code",
   "execution_count": 13,
   "metadata": {},
   "outputs": [
    {
     "data": {
      "text/html": [
       "<div>\n",
       "<style scoped>\n",
       "    .dataframe tbody tr th:only-of-type {\n",
       "        vertical-align: middle;\n",
       "    }\n",
       "\n",
       "    .dataframe tbody tr th {\n",
       "        vertical-align: top;\n",
       "    }\n",
       "\n",
       "    .dataframe thead th {\n",
       "        text-align: right;\n",
       "    }\n",
       "</style>\n",
       "<table border=\"1\" class=\"dataframe\">\n",
       "  <thead>\n",
       "    <tr style=\"text-align: right;\">\n",
       "      <th></th>\n",
       "      <th>sex_code_F</th>\n",
       "      <th>sex_code_M</th>\n",
       "      <th>sex_code_U</th>\n",
       "      <th>race_1</th>\n",
       "      <th>race_2</th>\n",
       "      <th>race_3</th>\n",
       "      <th>race_4</th>\n",
       "      <th>race_5</th>\n",
       "      <th>race_`</th>\n",
       "      <th>ethnicity_1</th>\n",
       "      <th>...</th>\n",
       "      <th>first_payment_src_LM</th>\n",
       "      <th>first_payment_src_MA</th>\n",
       "      <th>first_payment_src_MB</th>\n",
       "      <th>first_payment_src_MC</th>\n",
       "      <th>first_payment_src_OF</th>\n",
       "      <th>first_payment_src_VA</th>\n",
       "      <th>first_payment_src_WC</th>\n",
       "      <th>first_payment_src_ZZ</th>\n",
       "      <th>pat_age</th>\n",
       "      <th>hiv_drug</th>\n",
       "    </tr>\n",
       "    <tr>\n",
       "      <th>record_id</th>\n",
       "      <th></th>\n",
       "      <th></th>\n",
       "      <th></th>\n",
       "      <th></th>\n",
       "      <th></th>\n",
       "      <th></th>\n",
       "      <th></th>\n",
       "      <th></th>\n",
       "      <th></th>\n",
       "      <th></th>\n",
       "      <th></th>\n",
       "      <th></th>\n",
       "      <th></th>\n",
       "      <th></th>\n",
       "      <th></th>\n",
       "      <th></th>\n",
       "      <th></th>\n",
       "      <th></th>\n",
       "      <th></th>\n",
       "      <th></th>\n",
       "      <th></th>\n",
       "    </tr>\n",
       "  </thead>\n",
       "  <tbody>\n",
       "    <tr>\n",
       "      <th>120110921391</th>\n",
       "      <td>0</td>\n",
       "      <td>1</td>\n",
       "      <td>0</td>\n",
       "      <td>0</td>\n",
       "      <td>0</td>\n",
       "      <td>0</td>\n",
       "      <td>1</td>\n",
       "      <td>0</td>\n",
       "      <td>0</td>\n",
       "      <td>0</td>\n",
       "      <td>...</td>\n",
       "      <td>0</td>\n",
       "      <td>1</td>\n",
       "      <td>0</td>\n",
       "      <td>0</td>\n",
       "      <td>0</td>\n",
       "      <td>0</td>\n",
       "      <td>0</td>\n",
       "      <td>0</td>\n",
       "      <td>20</td>\n",
       "      <td>0</td>\n",
       "    </tr>\n",
       "    <tr>\n",
       "      <th>120110922505</th>\n",
       "      <td>1</td>\n",
       "      <td>0</td>\n",
       "      <td>0</td>\n",
       "      <td>0</td>\n",
       "      <td>0</td>\n",
       "      <td>1</td>\n",
       "      <td>0</td>\n",
       "      <td>0</td>\n",
       "      <td>0</td>\n",
       "      <td>0</td>\n",
       "      <td>...</td>\n",
       "      <td>0</td>\n",
       "      <td>1</td>\n",
       "      <td>0</td>\n",
       "      <td>0</td>\n",
       "      <td>0</td>\n",
       "      <td>0</td>\n",
       "      <td>0</td>\n",
       "      <td>0</td>\n",
       "      <td>11</td>\n",
       "      <td>0</td>\n",
       "    </tr>\n",
       "    <tr>\n",
       "      <th>120110921645</th>\n",
       "      <td>1</td>\n",
       "      <td>0</td>\n",
       "      <td>0</td>\n",
       "      <td>0</td>\n",
       "      <td>0</td>\n",
       "      <td>0</td>\n",
       "      <td>1</td>\n",
       "      <td>0</td>\n",
       "      <td>0</td>\n",
       "      <td>0</td>\n",
       "      <td>...</td>\n",
       "      <td>0</td>\n",
       "      <td>1</td>\n",
       "      <td>0</td>\n",
       "      <td>0</td>\n",
       "      <td>0</td>\n",
       "      <td>0</td>\n",
       "      <td>0</td>\n",
       "      <td>0</td>\n",
       "      <td>17</td>\n",
       "      <td>0</td>\n",
       "    </tr>\n",
       "    <tr>\n",
       "      <th>120110919484</th>\n",
       "      <td>1</td>\n",
       "      <td>0</td>\n",
       "      <td>0</td>\n",
       "      <td>0</td>\n",
       "      <td>0</td>\n",
       "      <td>0</td>\n",
       "      <td>1</td>\n",
       "      <td>0</td>\n",
       "      <td>0</td>\n",
       "      <td>0</td>\n",
       "      <td>...</td>\n",
       "      <td>0</td>\n",
       "      <td>0</td>\n",
       "      <td>0</td>\n",
       "      <td>0</td>\n",
       "      <td>0</td>\n",
       "      <td>0</td>\n",
       "      <td>0</td>\n",
       "      <td>0</td>\n",
       "      <td>19</td>\n",
       "      <td>0</td>\n",
       "    </tr>\n",
       "    <tr>\n",
       "      <th>120110919499</th>\n",
       "      <td>0</td>\n",
       "      <td>1</td>\n",
       "      <td>0</td>\n",
       "      <td>0</td>\n",
       "      <td>0</td>\n",
       "      <td>0</td>\n",
       "      <td>0</td>\n",
       "      <td>1</td>\n",
       "      <td>0</td>\n",
       "      <td>1</td>\n",
       "      <td>...</td>\n",
       "      <td>0</td>\n",
       "      <td>1</td>\n",
       "      <td>0</td>\n",
       "      <td>0</td>\n",
       "      <td>0</td>\n",
       "      <td>0</td>\n",
       "      <td>0</td>\n",
       "      <td>0</td>\n",
       "      <td>16</td>\n",
       "      <td>0</td>\n",
       "    </tr>\n",
       "  </tbody>\n",
       "</table>\n",
       "<p>5 rows × 45 columns</p>\n",
       "</div>"
      ],
      "text/plain": [
       "              sex_code_F  sex_code_M  sex_code_U  race_1  race_2  race_3  \\\n",
       "record_id                                                                  \n",
       "120110921391           0           1           0       0       0       0   \n",
       "120110922505           1           0           0       0       0       1   \n",
       "120110921645           1           0           0       0       0       0   \n",
       "120110919484           1           0           0       0       0       0   \n",
       "120110919499           0           1           0       0       0       0   \n",
       "\n",
       "              race_4  race_5  race_`  ethnicity_1    ...     \\\n",
       "record_id                                            ...      \n",
       "120110921391       1       0       0            0    ...      \n",
       "120110922505       0       0       0            0    ...      \n",
       "120110921645       1       0       0            0    ...      \n",
       "120110919484       1       0       0            0    ...      \n",
       "120110919499       0       1       0            1    ...      \n",
       "\n",
       "              first_payment_src_LM  first_payment_src_MA  \\\n",
       "record_id                                                  \n",
       "120110921391                     0                     1   \n",
       "120110922505                     0                     1   \n",
       "120110921645                     0                     1   \n",
       "120110919484                     0                     0   \n",
       "120110919499                     0                     1   \n",
       "\n",
       "              first_payment_src_MB  first_payment_src_MC  \\\n",
       "record_id                                                  \n",
       "120110921391                     0                     0   \n",
       "120110922505                     0                     0   \n",
       "120110921645                     0                     0   \n",
       "120110919484                     0                     0   \n",
       "120110919499                     0                     0   \n",
       "\n",
       "              first_payment_src_OF  first_payment_src_VA  \\\n",
       "record_id                                                  \n",
       "120110921391                     0                     0   \n",
       "120110922505                     0                     0   \n",
       "120110921645                     0                     0   \n",
       "120110919484                     0                     0   \n",
       "120110919499                     0                     0   \n",
       "\n",
       "              first_payment_src_WC  first_payment_src_ZZ  pat_age  hiv_drug  \n",
       "record_id                                                                    \n",
       "120110921391                     0                     0       20         0  \n",
       "120110922505                     0                     0       11         0  \n",
       "120110921645                     0                     0       17         0  \n",
       "120110919484                     0                     0       19         0  \n",
       "120110919499                     0                     0       16         0  \n",
       "\n",
       "[5 rows x 45 columns]"
      ]
     },
     "execution_count": 13,
     "metadata": {},
     "output_type": "execute_result"
    }
   ],
   "source": [
    "X_demographic.head()"
   ]
  },
  {
   "cell_type": "code",
   "execution_count": 15,
   "metadata": {},
   "outputs": [
    {
     "data": {
      "text/plain": [
       "Index(['sex_code_F', 'sex_code_M', 'sex_code_U', 'race_1', 'race_2', 'race_3',\n",
       "       'race_4', 'race_5', 'race_`', 'ethnicity_1', 'ethnicity_2',\n",
       "       'ethnicity_`', 'public_health_region_01', 'public_health_region_02',\n",
       "       'public_health_region_03', 'public_health_region_04',\n",
       "       'public_health_region_05', 'public_health_region_06',\n",
       "       'public_health_region_07', 'public_health_region_08',\n",
       "       'public_health_region_09', 'public_health_region_10',\n",
       "       'public_health_region_11', 'first_payment_src_09',\n",
       "       'first_payment_src_11', 'first_payment_src_12', 'first_payment_src_13',\n",
       "       'first_payment_src_14', 'first_payment_src_15', 'first_payment_src_16',\n",
       "       'first_payment_src_AM', 'first_payment_src_BL', 'first_payment_src_CH',\n",
       "       'first_payment_src_CI', 'first_payment_src_HM', 'first_payment_src_LM',\n",
       "       'first_payment_src_MA', 'first_payment_src_MB', 'first_payment_src_MC',\n",
       "       'first_payment_src_OF', 'first_payment_src_VA', 'first_payment_src_WC',\n",
       "       'first_payment_src_ZZ', 'pat_age', 'hiv_drug'],\n",
       "      dtype='object')"
      ]
     },
     "execution_count": 15,
     "metadata": {},
     "output_type": "execute_result"
    }
   ],
   "source": [
    "X_demographic.columns"
   ]
  },
  {
   "cell_type": "code",
   "execution_count": 19,
   "metadata": {},
   "outputs": [],
   "source": [
    "target = 'pat_status'\n",
    "\n",
    "index = 'record_id'\n",
    "\n",
    "personal_demographic_predictors = ['pat_age', 'sex_code', 'race', 'ethnicity', 'public_health_region', 'first_payment_src']\n",
    "hospital_stay_predictors = ['provider_name', 'type_of_admission', 'source_of_admission', 'admit_weekday', 'length_of_stay']\n",
    "\n",
    "diag_codes_predictors = ['admitting_diagnosis']\n",
    "diag_codes_predictors.extend([col for col in X_orig.columns if 'diag_code' in col])\n",
    "\n",
    "e_code_predictors = [col for col in X_orig.columns if 'e_code' in col]\n",
    "\n",
    "proc_code_predictors = ['princ_surg_proc_code', 'princ_surg_proc_day', 'princ_icd9_code']\n",
    "proc_code_predictors.extend([col for col in X_orig.columns if 'oth_surg' in col or 'oth_icd9' in col])"
   ]
  },
  {
   "cell_type": "code",
   "execution_count": 20,
   "metadata": {},
   "outputs": [
    {
     "data": {
      "text/plain": [
       "['pat_age',\n",
       " 'sex_code',\n",
       " 'race',\n",
       " 'ethnicity',\n",
       " 'public_health_region',\n",
       " 'first_payment_src']"
      ]
     },
     "execution_count": 20,
     "metadata": {},
     "output_type": "execute_result"
    }
   ],
   "source": [
    "personal_demographic_predictors"
   ]
  },
  {
   "cell_type": "code",
   "execution_count": 21,
   "metadata": {},
   "outputs": [
    {
     "data": {
      "text/plain": [
       "Index(['type_of_admission_1', 'type_of_admission_2', 'type_of_admission_3',\n",
       "       'type_of_admission_4', 'type_of_admission_5', 'type_of_admission_9',\n",
       "       'source_of_admission_1', 'source_of_admission_2',\n",
       "       'source_of_admission_4', 'source_of_admission_5',\n",
       "       'source_of_admission_6', 'source_of_admission_7',\n",
       "       'source_of_admission_8', 'source_of_admission_9',\n",
       "       'source_of_admission_A', 'source_of_admission_D',\n",
       "       'source_of_admission_`', 'admit_weekday', 'length_of_stay',\n",
       "       'hospital_teaching', 'hospital_CAH', 'hospital_community'],\n",
       "      dtype='object')"
      ]
     },
     "execution_count": 21,
     "metadata": {},
     "output_type": "execute_result"
    }
   ],
   "source": [
    "X_hospital.columns"
   ]
  },
  {
   "cell_type": "code",
   "execution_count": 23,
   "metadata": {},
   "outputs": [],
   "source": [
    "hospital_stay_predictors = ['type_of_admission', 'source_of_admission', 'admit_weekday', 'length_of_stay', 'hospital']"
   ]
  },
  {
   "cell_type": "code",
   "execution_count": 24,
   "metadata": {},
   "outputs": [
    {
     "data": {
      "text/plain": [
       "['type_of_admission',\n",
       " 'source_of_admission',\n",
       " 'admit_weekday',\n",
       " 'length_of_stay',\n",
       " 'hospital']"
      ]
     },
     "execution_count": 24,
     "metadata": {},
     "output_type": "execute_result"
    }
   ],
   "source": [
    "hospital_stay_predictors"
   ]
  },
  {
   "cell_type": "markdown",
   "metadata": {},
   "source": [
    "Okay, so let's start off with figuring out what the mode is for each of the demographic and hospital stay predictors, and use that to initialize a default vector for the input."
   ]
  },
  {
   "cell_type": "code",
   "execution_count": 35,
   "metadata": {},
   "outputs": [
    {
     "data": {
      "text/plain": [
       "14    1678\n",
       "17    1477\n",
       "18    1351\n",
       "16    1343\n",
       "15    1328\n",
       "19    1247\n",
       "20     890\n",
       "13     806\n",
       "12     505\n",
       "21     503\n",
       "9      450\n",
       "11     296\n",
       "10     221\n",
       "8      153\n",
       "7      119\n",
       "1       87\n",
       "2       78\n",
       "6       44\n",
       "4       39\n",
       "5       39\n",
       "3       34\n",
       "0       16\n",
       "Name: pat_age, dtype: int64"
      ]
     },
     "execution_count": 35,
     "metadata": {},
     "output_type": "execute_result"
    }
   ],
   "source": [
    "X_demographic['pat_age'].value_counts()"
   ]
  },
  {
   "cell_type": "code",
   "execution_count": 51,
   "metadata": {},
   "outputs": [],
   "source": [
    "prediction_defaults = {\n",
    "    'sex_code': 'sex_code_M',\n",
    "    'race': 'race_4',\n",
    "    'ethnicity': 'ethnicity_2',\n",
    "    'public_health_region': 'public_health_region_06',\n",
    "    'first_payment_src': 'first_payment_src_MA',\n",
    "    'pat_age': 14,\n",
    "    'hiv_drug': 0,\n",
    "    'type_of_admission': 'type_of_admission_1',\n",
    "    'source_of_admission': 'source_of_admission_1',\n",
    "    'admit_weekday': 1,\n",
    "    'length_of_stay': 1,\n",
    "    'hospital': 'hospital_community'\n",
    "}"
   ]
  },
  {
   "cell_type": "code",
   "execution_count": 48,
   "metadata": {},
   "outputs": [
    {
     "data": {
      "text/plain": [
       "type_of_admission_1        8827\n",
       "type_of_admission_2        1991\n",
       "type_of_admission_3        1737\n",
       "type_of_admission_4           5\n",
       "type_of_admission_5          90\n",
       "type_of_admission_9          54\n",
       "source_of_admission_1      9852\n",
       "source_of_admission_2       954\n",
       "source_of_admission_4      1252\n",
       "source_of_admission_5       240\n",
       "source_of_admission_6       230\n",
       "source_of_admission_7        47\n",
       "source_of_admission_8         5\n",
       "source_of_admission_9        55\n",
       "source_of_admission_A         1\n",
       "source_of_admission_D        57\n",
       "source_of_admission_`        11\n",
       "admit_weekday              9706\n",
       "length_of_stay           117007\n",
       "hospital_teaching          3865\n",
       "hospital_CAH                232\n",
       "hospital_community         8607\n",
       "dtype: int64"
      ]
     },
     "execution_count": 48,
     "metadata": {},
     "output_type": "execute_result"
    }
   ],
   "source": [
    "X_hospital.sum()"
   ]
  },
  {
   "cell_type": "code",
   "execution_count": 40,
   "metadata": {},
   "outputs": [
    {
     "data": {
      "text/plain": [
       "sex_code_F                   5496\n",
       "sex_code_M                   6082\n",
       "sex_code_U                      1\n",
       "race_1                         98\n",
       "race_2                        182\n",
       "race_3                       2186\n",
       "race_4                       7728\n",
       "race_5                       2447\n",
       "race_`                          5\n",
       "ethnicity_1                  2889\n",
       "ethnicity_2                  9689\n",
       "ethnicity_`                    79\n",
       "public_health_region_01       425\n",
       "public_health_region_02       327\n",
       "public_health_region_03      3041\n",
       "public_health_region_04       688\n",
       "public_health_region_05       644\n",
       "public_health_region_06      2853\n",
       "public_health_region_07      1150\n",
       "public_health_region_08      1287\n",
       "public_health_region_09       318\n",
       "public_health_region_10       378\n",
       "public_health_region_11      1115\n",
       "first_payment_src_09         1246\n",
       "first_payment_src_11           97\n",
       "first_payment_src_12          664\n",
       "first_payment_src_13           46\n",
       "first_payment_src_14            7\n",
       "first_payment_src_15          253\n",
       "first_payment_src_16          825\n",
       "first_payment_src_AM            7\n",
       "first_payment_src_BL          435\n",
       "first_payment_src_CH           91\n",
       "first_payment_src_CI          432\n",
       "first_payment_src_HM          399\n",
       "first_payment_src_LM            1\n",
       "first_payment_src_MA         6774\n",
       "first_payment_src_MB           85\n",
       "first_payment_src_MC         1069\n",
       "first_payment_src_OF           56\n",
       "first_payment_src_VA           29\n",
       "first_payment_src_WC           27\n",
       "first_payment_src_ZZ          151\n",
       "pat_age                    195454\n",
       "hiv_drug                     1125\n",
       "dtype: int64"
      ]
     },
     "execution_count": 40,
     "metadata": {},
     "output_type": "execute_result"
    }
   ],
   "source": [
    "# Since these dataframes are essentially all boolean flags, we can actually just sum each column to get the mode\n",
    "# of each variable.\n",
    "\n",
    "# sex_code: men\n",
    "# race: 4\n",
    "# ethnicity: 2\n",
    "# public_health_region: 6\n",
    "# first_payment_source: 6774\n",
    "\n",
    "X_demographic.sum()"
   ]
  },
  {
   "cell_type": "code",
   "execution_count": 64,
   "metadata": {},
   "outputs": [],
   "source": [
    "prediction_vector_length = len(X_demographic.columns) + len(X_hospital.columns) + len(X_diagnoses.columns) + len(X_procedures.columns)\n",
    "prediction_index = X_demographic.columns.append(X_hospital.columns).append(X_diagnoses.columns).append(X_procedures.columns)"
   ]
  },
  {
   "cell_type": "code",
   "execution_count": 65,
   "metadata": {},
   "outputs": [],
   "source": [
    "default_prediction_vector = pd.Series(np.zeros(prediction_vector_length), index=prediction_index)"
   ]
  },
  {
   "cell_type": "code",
   "execution_count": 245,
   "metadata": {},
   "outputs": [],
   "source": [
    "with open(\"pkls/prediction_vector.pkl\", \"wb\") as picklefile:\n",
    "    pickle.dump(prediction_vector, picklefile)"
   ]
  },
  {
   "cell_type": "code",
   "execution_count": 95,
   "metadata": {},
   "outputs": [
    {
     "data": {
      "text/plain": [
       "array(['expired'], dtype=object)"
      ]
     },
     "execution_count": 95,
     "metadata": {},
     "output_type": "execute_result"
    }
   ],
   "source": [
    "gbc_model.predict(np.asarray(prediction_vector).reshape(1, -1))"
   ]
  },
  {
   "cell_type": "code",
   "execution_count": 96,
   "metadata": {},
   "outputs": [
    {
     "data": {
      "text/plain": [
       "array([[0.32937835, 0.67062165]])"
      ]
     },
     "execution_count": 96,
     "metadata": {},
     "output_type": "execute_result"
    }
   ],
   "source": [
    "gbc_model.predict_proba(np.asarray(prediction_vector).reshape(1, -1))"
   ]
  },
  {
   "cell_type": "code",
   "execution_count": 98,
   "metadata": {},
   "outputs": [],
   "source": [
    "import requests"
   ]
  },
  {
   "cell_type": "code",
   "execution_count": 99,
   "metadata": {},
   "outputs": [
    {
     "name": "stdout",
     "output_type": "stream",
     "text": [
      "[1, ['4275'], None, [['427.5', ' Cardiac arrest']]]\n"
     ]
    }
   ],
   "source": [
    "dx_query = \"https://clinicaltables.nlm.nih.gov/api/icd9cm_dx/v3/search?terms={}\"\n",
    "\n",
    "response = requests.get(dx_query.format('4275'))\n",
    "val = response.json()\n",
    "print(val)"
   ]
  },
  {
   "cell_type": "code",
   "execution_count": 157,
   "metadata": {},
   "outputs": [],
   "source": [
    "from sklearn.preprocessing import StandardScaler\n",
    "ssX = StandardScaler()"
   ]
  },
  {
   "cell_type": "code",
   "execution_count": 160,
   "metadata": {},
   "outputs": [
    {
     "name": "stderr",
     "output_type": "stream",
     "text": [
      "/Users/joycelee/anaconda3/lib/python3.6/site-packages/sklearn/utils/validation.py:475: DataConversionWarning: Data with input dtype int64 was converted to float64 by StandardScaler.\n",
      "  warnings.warn(msg, DataConversionWarning)\n"
     ]
    }
   ],
   "source": [
    "scaled_los = ssX.fit_transform(np.asarray(X_orig['length_of_stay']).reshape(-1, 1))"
   ]
  },
  {
   "cell_type": "code",
   "execution_count": 162,
   "metadata": {},
   "outputs": [
    {
     "data": {
      "text/plain": [
       "array([[ 4.],\n",
       "       [ 6.],\n",
       "       [ 4.],\n",
       "       ...,\n",
       "       [ 6.],\n",
       "       [17.],\n",
       "       [31.]])"
      ]
     },
     "execution_count": 162,
     "metadata": {},
     "output_type": "execute_result"
    }
   ],
   "source": [
    "ssX.inverse_transform(scaled_los)"
   ]
  },
  {
   "cell_type": "code",
   "execution_count": 163,
   "metadata": {},
   "outputs": [
    {
     "data": {
      "text/plain": [
       "array([[-0.36243684],\n",
       "       [-0.22331226],\n",
       "       [-0.36243684],\n",
       "       ...,\n",
       "       [-0.22331226],\n",
       "       [ 0.54187294],\n",
       "       [ 1.515745  ]])"
      ]
     },
     "execution_count": 163,
     "metadata": {},
     "output_type": "execute_result"
    }
   ],
   "source": [
    "scaled_los"
   ]
  },
  {
   "cell_type": "code",
   "execution_count": 196,
   "metadata": {},
   "outputs": [
    {
     "data": {
      "text/plain": [
       "3.9999999401220236"
      ]
     },
     "execution_count": 196,
     "metadata": {},
     "output_type": "execute_result"
    }
   ],
   "source": [
    "ssX.inverse_transform([-0.36243684])[0]"
   ]
  },
  {
   "cell_type": "code",
   "execution_count": 203,
   "metadata": {},
   "outputs": [
    {
     "data": {
      "text/plain": [
       "-0.36243683583475084"
      ]
     },
     "execution_count": 203,
     "metadata": {},
     "output_type": "execute_result"
    }
   ],
   "source": [
    "ssX.transform(np.asarray([4.]).reshape(-1,1))[0,0]"
   ]
  },
  {
   "cell_type": "code",
   "execution_count": null,
   "metadata": {},
   "outputs": [],
   "source": []
  },
  {
   "cell_type": "code",
   "execution_count": 171,
   "metadata": {},
   "outputs": [
    {
     "name": "stderr",
     "output_type": "stream",
     "text": [
      "/Users/joycelee/anaconda3/lib/python3.6/site-packages/sklearn/utils/validation.py:475: DataConversionWarning: Data with input dtype int64 was converted to float64 by StandardScaler.\n",
      "  warnings.warn(msg, DataConversionWarning)\n"
     ]
    },
    {
     "data": {
      "text/plain": [
       "array([[ 1.22676964],\n",
       "       [-1.16575131],\n",
       "       [ 0.42926265],\n",
       "       ...,\n",
       "       [ 0.69509832],\n",
       "       [ 0.42926265],\n",
       "       [-0.36824433]])"
      ]
     },
     "execution_count": 171,
     "metadata": {},
     "output_type": "execute_result"
    }
   ],
   "source": [
    "ssX_los = StandardScaler()\n",
    "ssX_los.fit_transform(np.asarray(X_orig['length_of_stay']).reshape(-1,1))\n",
    "\n",
    "ssX_age = StandardScaler()\n",
    "ssX_age.fit_transform(np.asarray(X_orig['pat_age']).reshape(-1,1))"
   ]
  },
  {
   "cell_type": "code",
   "execution_count": 180,
   "metadata": {},
   "outputs": [],
   "source": [
    "with open('scalers_los_age.pkl', 'wb') as picklefile:\n",
    "    pickle.dump([ssX_los, ssX_age], picklefile)"
   ]
  },
  {
   "cell_type": "code",
   "execution_count": 185,
   "metadata": {},
   "outputs": [
    {
     "data": {
      "text/plain": [
       "-0.2885367804674306"
      ]
     },
     "execution_count": 185,
     "metadata": {},
     "output_type": "execute_result"
    }
   ],
   "source": [
    "X_train['length_of_stay'].median()"
   ]
  },
  {
   "cell_type": "code",
   "execution_count": 186,
   "metadata": {},
   "outputs": [
    {
     "data": {
      "text/plain": [
       "0.1706210101898213"
      ]
     },
     "execution_count": 186,
     "metadata": {},
     "output_type": "execute_result"
    }
   ],
   "source": [
    "X_train['pat_age'].median()"
   ]
  },
  {
   "cell_type": "code",
   "execution_count": 204,
   "metadata": {},
   "outputs": [],
   "source": [
    "def make_prediction(features):\n",
    "    # When make_prediction is called, make a copy of our prediction_default_dictionary and then\n",
    "    # change the values according to what features the user changed.\n",
    "\n",
    "    feature_dict = prediction_defaults.copy()\n",
    "\n",
    "    for key, value in features.items():\n",
    "        if key == 'length_of_stay':\n",
    "            feature_dict[key] = ssX_los.transform(np.asarray([value]).reshape(-1,1))[0,0]\n",
    "        elif key == 'pat_age':\n",
    "            feature_dict[key] == ssX_age.transform(np.asarray([value]).reshape(-1,1))[0,0]\n",
    "        else:\n",
    "            feature_dict[key] = value\n",
    "            \n",
    "    print(feature_dict)\n",
    "    \n",
    "    new_prediction = prediction_vector.copy()\n",
    "\n",
    "    # Every time make_prediction is called, we go ahead and update prediction_vector so that\n",
    "    # whatever feature it is that the user changed gets updated in the prediction vector.\n",
    "    # Otherwise, keep all of the defaults that prediction_vector was initialized with.\n",
    "    for key, value in feature_dict.items():\n",
    "        if key == 'pat_age' or key =='hiv_drug' or key == 'admit_weekday' or key == 'length_of_stay':\n",
    "            new_prediction[key] = value\n",
    "        else:\n",
    "             new_prediction[value] = 1\n",
    "\n",
    "    X = np.asarray(new_prediction).reshape(1,-1)\n",
    "    print(gbc_model.predict(X))\n",
    "    print(gbc_model.predict_proba(X))\n",
    "    prob_survived = gbc_model.predict_proba(X)[0, 0]\n",
    "\n",
    "    result = {\n",
    "        'prediction': int(prob_survived > 0.5),\n",
    "        'prob_survived': prob_survived\n",
    "    }\n",
    "    return result"
   ]
  },
  {
   "cell_type": "code",
   "execution_count": 214,
   "metadata": {},
   "outputs": [
    {
     "name": "stdout",
     "output_type": "stream",
     "text": [
      "record_id\n",
      "420110761749   -0.564326\n",
      "220110514002    1.159357\n",
      "120110304733   -0.564326\n",
      "120110426880   -0.564326\n",
      "220110444681    1.021463\n",
      "Name: length_of_stay, dtype: float64\n",
      "1\n"
     ]
    }
   ],
   "source": [
    "print(X_train['length_of_stay'].head())\n",
    "print(X_orig.loc['120110304733','length_of_stay'])"
   ]
  },
  {
   "cell_type": "code",
   "execution_count": 227,
   "metadata": {
    "scrolled": true
   },
   "outputs": [
    {
     "name": "stdout",
     "output_type": "stream",
     "text": [
      "{'sex_code': 'sex_code_M', 'race': 'race_4', 'ethnicity': 'ethnicity_2', 'public_health_region': 'public_health_region_06', 'first_payment_src': 'first_payment_src_MA', 'pat_age': 14, 'hiv_drug': 0, 'type_of_admission': 'type_of_admission_1', 'source_of_admission': 'source_of_admission_1', 'admit_weekday': 1, 'length_of_stay': 1.4461827140067915, 'hospital': 'hospital_community'}\n",
      "['alive']\n",
      "[[0.51910178 0.48089822]]\n"
     ]
    },
    {
     "name": "stderr",
     "output_type": "stream",
     "text": [
      "/Users/joycelee/anaconda3/lib/python3.6/site-packages/sklearn/utils/validation.py:475: DataConversionWarning: Data with input dtype <U2 was converted to float64 by StandardScaler.\n",
      "  warnings.warn(msg, DataConversionWarning)\n"
     ]
    },
    {
     "data": {
      "text/plain": [
       "{'prediction': 1, 'prob_survived': 0.5191017772173423}"
      ]
     },
     "execution_count": 227,
     "metadata": {},
     "output_type": "execute_result"
    }
   ],
   "source": [
    "make_prediction({'sex_code': 'sex_code_M', 'length_of_stay': '30'})"
   ]
  },
  {
   "cell_type": "code",
   "execution_count": 233,
   "metadata": {},
   "outputs": [
    {
     "name": "stdout",
     "output_type": "stream",
     "text": [
      "{'sex_code': 'sex_code_F', 'race': 'race_4', 'ethnicity': 'ethnicity_2', 'public_health_region': 'public_health_region_06', 'first_payment_src': 'first_payment_src_MA', 'pat_age': 14, 'hiv_drug': 0, 'type_of_admission': 'type_of_admission_3', 'source_of_admission': 'source_of_admission_1', 'admit_weekday': 1, 'length_of_stay': 1.4461827140067915, 'hospital': 'hospital_community'}\n",
      "['alive']\n",
      "[[0.53884956 0.46115044]]\n"
     ]
    },
    {
     "name": "stderr",
     "output_type": "stream",
     "text": [
      "/Users/joycelee/anaconda3/lib/python3.6/site-packages/sklearn/utils/validation.py:475: DataConversionWarning: Data with input dtype <U2 was converted to float64 by StandardScaler.\n",
      "  warnings.warn(msg, DataConversionWarning)\n"
     ]
    },
    {
     "data": {
      "text/plain": [
       "{'prediction': 1, 'prob_survived': 0.538849564203067}"
      ]
     },
     "execution_count": 233,
     "metadata": {},
     "output_type": "execute_result"
    }
   ],
   "source": [
    "make_prediction({'sex_code': 'sex_code_F', 'length_of_stay':'30', 'first_payment_src': 'first_payment_src_MA', 'type_of_admission': 'type_of_admission_3'})"
   ]
  },
  {
   "cell_type": "code",
   "execution_count": 247,
   "metadata": {},
   "outputs": [],
   "source": [
    "with open('pkls/prediction_vector.pkl', 'rb') as picklefile:\n",
    "    z = pickle.load(picklefile)"
   ]
  },
  {
   "cell_type": "code",
   "execution_count": null,
   "metadata": {},
   "outputs": [],
   "source": []
  }
 ],
 "metadata": {
  "kernelspec": {
   "display_name": "Python 3",
   "language": "python",
   "name": "python3"
  },
  "language_info": {
   "codemirror_mode": {
    "name": "ipython",
    "version": 3
   },
   "file_extension": ".py",
   "mimetype": "text/x-python",
   "name": "python",
   "nbconvert_exporter": "python",
   "pygments_lexer": "ipython3",
   "version": "3.6.5"
  }
 },
 "nbformat": 4,
 "nbformat_minor": 2
}
